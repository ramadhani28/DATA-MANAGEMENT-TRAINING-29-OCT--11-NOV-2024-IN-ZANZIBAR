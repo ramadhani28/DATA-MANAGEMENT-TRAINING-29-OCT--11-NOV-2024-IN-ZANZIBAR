{
 "cells": [
  {
   "cell_type": "code",
   "execution_count": 5,
   "id": "9614d51e-b631-4791-a77f-847cb26fda30",
   "metadata": {},
   "outputs": [
    {
     "name": "stdout",
     "output_type": "stream",
     "text": [
      "Addition of two matrices is \n",
      "[[ 6  6]\n",
      " [13  5]]\n",
      "\n",
      "product of two matrices is \n",
      "[[ 5  8]\n",
      " [42  6]]\n"
     ]
    }
   ],
   "source": [
    "import numpy as np\n",
    "mat1= np.array([[1,2],\n",
    "              [7,3]])\n",
    "mat2= np.array([[5,4],\n",
    "              [6,2]])\n",
    "print('Addition of two matrices is ')\n",
    "print(mat1 + mat2)\n",
    "print('\\nproduct of two matrices is ')\n",
    "print(mat1 * mat2)"
   ]
  },
  {
   "cell_type": "code",
   "execution_count": null,
   "id": "6a98ccb9-a631-4ad4-9012-3660a52ba592",
   "metadata": {},
   "outputs": [],
   "source": []
  }
 ],
 "metadata": {
  "kernelspec": {
   "display_name": "Python 3 (ipykernel)",
   "language": "python",
   "name": "python3"
  },
  "language_info": {
   "codemirror_mode": {
    "name": "ipython",
    "version": 3
   },
   "file_extension": ".py",
   "mimetype": "text/x-python",
   "name": "python",
   "nbconvert_exporter": "python",
   "pygments_lexer": "ipython3",
   "version": "3.12.7"
  }
 },
 "nbformat": 4,
 "nbformat_minor": 5
}
