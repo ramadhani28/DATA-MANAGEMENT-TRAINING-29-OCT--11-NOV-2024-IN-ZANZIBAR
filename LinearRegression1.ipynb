{
 "cells": [
  {
   "cell_type": "code",
   "execution_count": 15,
   "id": "a9813a4d-0bfe-4942-bd4c-2e392a507752",
   "metadata": {},
   "outputs": [],
   "source": [
    "# Linear Regression Implementation\n",
    "import numpy as np\n",
    "import pandas as pd\n",
    "import matplotlib.pyplot as plt\n",
    "from sklearn.linear_model import LinearRegression\n",
    "from sklearn.model_selection import train_test_split\n",
    "from sklearn.metrics import mean_squared_error, r2_score\n",
    "data = pd.read_csv('AI-MLData/data_for_lr.csv')"
   ]
  },
  {
   "cell_type": "code",
   "execution_count": 17,
   "id": "c6c71537-0d85-4db6-991c-a68933fb60db",
   "metadata": {},
   "outputs": [
    {
     "data": {
      "text/plain": [
       "x    0\n",
       "y    1\n",
       "dtype: int64"
      ]
     },
     "execution_count": 17,
     "metadata": {},
     "output_type": "execute_result"
    }
   ],
   "source": [
    "data.isna().sum()"
   ]
  },
  {
   "cell_type": "code",
   "execution_count": 23,
   "id": "689e4906-6f4e-45cf-8b6b-ce8a0e1702df",
   "metadata": {},
   "outputs": [
    {
     "data": {
      "text/plain": [
       "x    0\n",
       "y    0\n",
       "dtype: int64"
      ]
     },
     "execution_count": 23,
     "metadata": {},
     "output_type": "execute_result"
    }
   ],
   "source": [
    "ymean=data['y'].mean()\n",
    "#data.fillna(ymean,inplace=True)\n",
    "data.dropna(inplace=True)\n",
    "data.isna().sum()"
   ]
  },
  {
   "cell_type": "code",
   "execution_count": 25,
   "id": "00c81772-7fbd-45a1-a47e-0010d6ee5c20",
   "metadata": {},
   "outputs": [
    {
     "data": {
      "image/png": "[encoded data removed]",
      "text/plain": [
       "<Figure size 640x480 with 1 Axes>"
      ]
     },
     "metadata": {},
     "output_type": "display_data"
    }
   ],
   "source": [
    "#3 Graphical Representation\n",
    "#figure, axis = plt.subplots(2, 2)\n",
    "plt.scatter(data['x'],data['y'])\n",
    "plt.show()"
   ]
  },
  {
   "cell_type": "code",
   "execution_count": null,
   "id": "09bdba7b-f811-4e05-a086-e17dde8d63fc",
   "metadata": {},
   "outputs": [],
   "source": []
  },
  {
   "cell_type": "code",
   "execution_count": null,
   "id": "39f94de5-792c-479c-af34-62da253ca3c8",
   "metadata": {},
   "outputs": [],
   "source": [
    "#4 Model Construction"
   ]
  },
  {
   "cell_type": "code",
   "execution_count": 31,
   "id": "1c7c32b4-0f4e-4d55-b01f-24b6a6db094b",
   "metadata": {
    "scrolled": true
   },
   "outputs": [],
   "source": [
    "X=data['x']\n",
    "Y=data['y']"
   ]
  },
  {
   "cell_type": "code",
   "execution_count": 33,
   "id": "2a8afe6e-c54a-45ea-9f50-7ee385024093",
   "metadata": {},
   "outputs": [],
   "source": [
    "X_train, X_test, Y_train, Y_test = train_test_split(np.array(X).reshape(-1,1),Y,test_size=0.2,random_state=2)\n"
   ]
  },
  {
   "cell_type": "code",
   "execution_count": 47,
   "id": "47009611-2836-4ae2-b06d-3fc29cea41f6",
   "metadata": {},
   "outputs": [
    {
     "data": {
      "text/plain": [
       "0.9920868378651475"
      ]
     },
     "execution_count": 47,
     "metadata": {},
     "output_type": "execute_result"
    }
   ],
   "source": [
    "reg = LinearRegression()\n",
    "reg.fit(X_train, Y_train)\n",
    "#print(reg.intercept_)\n",
    "#print(reg.coef_)\n",
    "#Prediction\n",
    "Y_pred=reg.predict(X_test)\n",
    "##data frame: X_Test,Y_test,Y_pred\n",
    "r2_score(Y_pred,Y_test)\n"
   ]
  },
  {
   "cell_type": "code",
   "execution_count": 1,
   "id": "083c1f39-0bb0-49f7-9f4a-a803347b66da",
   "metadata": {},
   "outputs": [
    {
     "ename": "NameError",
     "evalue": "name 'reg' is not defined",
     "output_type": "error",
     "traceback": [
      "\u001b[1;31m---------------------------------------------------------------------------\u001b[0m",
      "\u001b[1;31mNameError\u001b[0m                                 Traceback (most recent call last)",
      "Cell \u001b[1;32mIn[1], line 1\u001b[0m\n\u001b[1;32m----> 1\u001b[0m \u001b[38;5;28mprint\u001b[39m(\u001b[38;5;124m'\u001b[39m\u001b[38;5;124mCoefficients: \u001b[39m\u001b[38;5;124m'\u001b[39m, reg\u001b[38;5;241m.\u001b[39mcoef_,\u001b[38;5;124m'\u001b[39m\u001b[38;5;124mIntercept: \u001b[39m\u001b[38;5;124m'\u001b[39m,reg\u001b[38;5;241m.\u001b[39mintercept_)\n\u001b[0;32m      2\u001b[0m \u001b[38;5;28mprint\u001b[39m(\u001b[38;5;124m'\u001b[39m\u001b[38;5;124mVariance score: \u001b[39m\u001b[38;5;132;01m{}\u001b[39;00m\u001b[38;5;124m'\u001b[39m\u001b[38;5;241m.\u001b[39mformat(reg\u001b[38;5;241m.\u001b[39mscore(X_test, Y_test)))\n\u001b[0;32m      3\u001b[0m figure, axis \u001b[38;5;241m=\u001b[39m plt\u001b[38;5;241m.\u001b[39msubplots(\u001b[38;5;241m2\u001b[39m, \u001b[38;5;241m2\u001b[39m)\n",
      "\u001b[1;31mNameError\u001b[0m: name 'reg' is not defined"
     ]
    }
   ],
   "source": [
    "print('Coefficients: ', reg.coef_,'Intercept: ',reg.intercept_)\n",
    "print('Variance score: {}'.format(reg.score(X_test, Y_test)))\n",
    "figure, axis = plt.subplots(2, 2)\n",
    "axis[0,0].scatter(data.x, data.y,s=4)\n",
    "axis[0,1].scatter(X_test, Y_test,s=3)\n",
    "axis[1,0].scatter(X_test, Y_pred,c='red',s=2,edgecolor='green',linewidth=1)\n",
    "u=reg.predict(np.array(102).reshape(-1,1))\n",
    "#print(u)\n",
    "plt.show()\n"
   ]
  },
  {
   "cell_type": "code",
   "execution_count": 51,
   "id": "35a3a6b1-78a1-464e-a958-e27580c8c1d8",
   "metadata": {
    "jp-MarkdownHeadingCollapsed": true
   },
   "outputs": [
    {
     "name": "stdout",
     "output_type": "stream",
     "text": [
      "2.553066405795041\n",
      "rms error is: 2.553066405795041\n",
      "99.99544214262886\n"
     ]
    }
   ],
   "source": [
    "# Finding Accuracy of Linear Regression Model\n",
    "#RMSE\n",
    "##import math\n",
    "from sklearn.metrics import root_mean_squared_error\n",
    "rmse=root_mean_squared_error(Y_test,Y_pred)\n",
    "#It should be < 1% for better model\n",
    "print(rmse)\n",
    "def rmse(predictions, targets):\n",
    "    return np.sqrt(((predictions - targets) ** 2).mean())\n",
    "rmse_val = rmse(np.array(Y_test), np.array(Y_pred))\n",
    "print(\"rms error is: \" + str(rmse_val))\n",
    "#Bias\n",
    "\n",
    "Bias=abs(sum(Y_test)-sum(Y_pred))/sum(Y_test)\n",
    "Accuracy=100-Bias\n",
    "print(Accuracy)\n",
    "#bias=abs((sum(Y_test)-sum(Y_pred)))\n",
    "#acc=100-bias\n",
    "#print(acc)\n"
   ]
  },
  {
   "cell_type": "markdown",
   "id": "6823e2f2-fe94-4825-8757-0adb3554d6e2",
   "metadata": {},
   "source": [
    "# Assignment:Linear Regression on Height Wt Data(score)\r\n"
   ]
  }
 ],
 "metadata": {
  "kernelspec": {
   "display_name": "Python 3 (ipykernel)",
   "language": "python",
   "name": "python3"
  },
  "language_info": {
   "codemirror_mode": {
    "name": "ipython",
    "version": 3
   },
   "file_extension": ".py",
   "mimetype": "text/x-python",
   "name": "python",
   "nbconvert_exporter": "python",
   "pygments_lexer": "ipython3",
   "version": "3.12.4"
  }
 },
 "nbformat": 4,
 "nbformat_minor": 5
}
