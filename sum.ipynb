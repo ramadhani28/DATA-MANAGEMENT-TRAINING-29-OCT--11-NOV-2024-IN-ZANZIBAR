{
 "cells": [
  {
   "cell_type": "code",
   "execution_count": 2,
   "id": "ea13c181-e291-4621-948b-fc98f6669760",
   "metadata": {},
   "outputs": [
    {
     "name": "stdin",
     "output_type": "stream",
     "text": [
      "enter number 2\n",
      "enter number 5\n",
      "enter number 7\n",
      "enter number 9\n",
      "enter number 7\n",
      "enter number 6\n",
      "enter number 5\n",
      "enter number 4\n",
      "enter number 4\n",
      "enter number 8\n"
     ]
    },
    {
     "name": "stdout",
     "output_type": "stream",
     "text": [
      "57\n"
     ]
    }
   ],
   "source": [
    "n = 1\n",
    "sumval = 0\n",
    "while(n <= 10):\n",
    "    num = int(input(\"enter number\"))\n",
    "    sumval = sumval + num\n",
    "    n = n + 1 \n",
    "print(sumval) "
   ]
  },
  {
   "cell_type": "code",
   "execution_count": null,
   "id": "91b0ae87-14b9-4cc3-a9c8-df9ea7b3cacc",
   "metadata": {},
   "outputs": [],
   "source": []
  }
 ],
 "metadata": {
  "kernelspec": {
   "display_name": "Python 3 (ipykernel)",
   "language": "python",
   "name": "python3"
  },
  "language_info": {
   "codemirror_mode": {
    "name": "ipython",
    "version": 3
   },
   "file_extension": ".py",
   "mimetype": "text/x-python",
   "name": "python",
   "nbconvert_exporter": "python",
   "pygments_lexer": "ipython3",
   "version": "3.12.7"
  }
 },
 "nbformat": 4,
 "nbformat_minor": 5
}
