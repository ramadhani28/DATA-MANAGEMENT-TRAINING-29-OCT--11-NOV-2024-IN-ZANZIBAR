{
 "cells": [
  {
   "cell_type": "code",
   "execution_count": 6,
   "id": "c123a9b1-8c5c-4ca9-8f88-5962e1f7a06c",
   "metadata": {},
   "outputs": [
    {
     "name": "stdin",
     "output_type": "stream",
     "text": [
      "Enter a number 8\n"
     ]
    },
    {
     "name": "stdout",
     "output_type": "stream",
     "text": [
      "Number is even\n",
      "End of if .. else statement\n"
     ]
    }
   ],
   "source": [
    "#program to print whether a number is \n",
    "#even or odd\n",
    "#read a number\n",
    "num = int(input(\"Enter a number\"))\n",
    "if num%2 ==0:\n",
    "    print(\"Number is even\")\n",
    "else:\n",
    "    print (\"number is odd\")\n",
    "print (\"End of if .. else statement\")    "
   ]
  },
  {
   "cell_type": "code",
   "execution_count": 10,
   "id": "167b6b14-e169-4a02-be63-a24c966d1e87",
   "metadata": {},
   "outputs": [
    {
     "name": "stdin",
     "output_type": "stream",
     "text": [
      "enter marks 78\n"
     ]
    },
    {
     "name": "stdout",
     "output_type": "stream",
     "text": [
      "Grade is B\n"
     ]
    }
   ],
   "source": [
    "# calculating grade depending on marks\n",
    "marks = int(input(\"enter marks\"))\n",
    "if (marks >= 85 and marks <= 100) :\n",
    "    print (\"Grade is A\")\n",
    "elif  (marks >= 70 and marks < 85) :\n",
    "    print (\"Grade is B\")  \n",
    "elif  (marks >= 60 and marks < 70) :\n",
    "    print (\"Grade is c\")  \n",
    "elif  (marks >= 50 and marks < 60) :\n",
    "    print (\"Grade is D\")  \n",
    "elif  (marks >= 0 and marks < 50) :\n",
    "    print (\"Grade is A\")      \n",
    "else:\n",
    "    print (\"enter accurate marks\")\n",
    "\n"
   ]
  },
  {
   "cell_type": "code",
   "execution_count": null,
   "id": "e0b3435c-59a1-4825-95a1-de6a031452e6",
   "metadata": {},
   "outputs": [],
   "source": [
    "n = 1\n",
    "sumval = 0\n",
    "while(n <= 10):\n",
    "    num = int(input(\"enter number\"))\n",
    "    sumval = sumval + num\n",
    "    n = n + 1 \n",
    "print(sumval) "
   ]
  },
  {
   "cell_type": "code",
   "execution_count": null,
   "id": "2aa75163-3f05-4db3-9f3a-7e1136e6d1a1",
   "metadata": {},
   "outputs": [],
   "source": []
  }
 ],
 "metadata": {
  "kernelspec": {
   "display_name": "Python 3 (ipykernel)",
   "language": "python",
   "name": "python3"
  },
  "language_info": {
   "codemirror_mode": {
    "name": "ipython",
    "version": 3
   },
   "file_extension": ".py",
   "mimetype": "text/x-python",
   "name": "python",
   "nbconvert_exporter": "python",
   "pygments_lexer": "ipython3",
   "version": "3.12.7"
  }
 },
 "nbformat": 4,
 "nbformat_minor": 5
}
