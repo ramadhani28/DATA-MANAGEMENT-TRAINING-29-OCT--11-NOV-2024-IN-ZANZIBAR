{
 "cells": [
  {
   "cell_type": "markdown",
   "id": "653b7b7d-8428-4f97-b514-3547b13bf9f1",
   "metadata": {
    "editable": true,
    "panel-layout": {
     "height": 153.99166870117188,
     "visible": true,
     "width": 100
    },
    "slideshow": {
     "slide_type": ""
    },
    "tags": []
   },
   "source": [
    "Consider a random experiment of tossing a biased coin 6 times where the probability of getting a head is 0.6. If ‘getting a head’ is considered as success then, construct the binomial distribution table."
   ]
  },
  {
   "attachments": {
    "554028f3-e49b-45c6-a080-91525430479b.png": {
     "image/png": "[encoded data removed]"
    }
   },
   "cell_type": "markdown",
   "id": "d2482ef1-b80a-4f0e-9110-ee7502ac027c",
   "metadata": {
    "editable": true,
    "slideshow": {
     "slide_type": "slide"
    },
    "tags": []
   },
   "source": [
    "![image.png](attachment:554028f3-e49b-45c6-a080-91525430479b.png)"
   ]
  },
  {
   "cell_type": "code",
   "execution_count": 1,
   "id": "dcd8bb95-a080-455f-a0d4-cfa15d2d9371",
   "metadata": {
    "editable": true,
    "slideshow": {
     "slide_type": ""
    },
    "tags": []
   },
   "outputs": [
    {
     "name": "stdout",
     "output_type": "stream",
     "text": [
      "r\tp(r)\n",
      "0\t0.004096000000000003\n",
      "1\t0.03686400000000002\n",
      "2\t0.1382400000000001\n",
      "3\t0.2764800000000001\n",
      "4\t0.3110400000000001\n",
      "5\t0.1866240000000001\n",
      "6\t0.04665599999999999\n",
      "mean = 3.5999999999999996\n",
      "variance = 1.44\n"
     ]
    }
   ],
   "source": [
    "## Implementation\n",
    "from scipy.stats import binom \n",
    "n = 6\n",
    "p = 0.6\n",
    "r_values = list(range(n + 1)) \n",
    "mean, var = binom.stats(n, p) \n",
    "dist = [binom.pmf(r, n, p) for r in r_values ] \n",
    "print(\"r\\tp(r)\") \n",
    "for i in range(n + 1): \n",
    "\tprint(str(r_values[i]) + \"\\t\" + str(dist[i])) \n",
    "print(\"mean = \"+str(mean)) \n",
    "print(\"variance = \"+str(var))\n"
   ]
  },
  {
   "cell_type": "markdown",
   "id": "fa7ab731-9674-4626-89bc-f0fafce2d5ae",
   "metadata": {
    "jp-MarkdownHeadingCollapsed": true
   },
   "source": [
    "# Plot Bar Chart to see the result\r\n",
    "from scipy.stats import binom \r\n",
    "import matplotlib.pyplot as plt p \r\n",
    "n = 6\r\n",
    "p alues \r\n",
    "r_values = list(range(n values \r\n",
    "dist = [binom.pmf(r, n, p) for r in r_the graph \r\n",
    "plt.bar(r_values, dist) \r\n",
    "plt.show()\r\n"
   ]
  },
  {
   "cell_type": "markdown",
   "id": "e832ebc2-45e4-4611-82a5-db3d481090fd",
   "metadata": {},
   "source": [
    "# Let’s say that you are out on a long drive. The rate of occurrences of good restaurants in a range of 10 miles (or km) is 2. In other words, the mean number of occurrences of restaurants in a range of 10 KM or miles is 2. What is the probability that 0, 1, 2, 3, 4, or 5 restaurants will occur in the next 10 km.\r\n",
    "λ= 2\r\n",
    "P(0)=e^-2* λ^0/0!\r\n"
   ]
  },
  {
   "cell_type": "code",
   "execution_count": null,
   "id": "581279a2-3546-405e-8034-c7a97431d130",
   "metadata": {},
   "outputs": [],
   "source": []
  },
  {
   "cell_type": "markdown",
   "id": "f0491321-6c8c-4d87-ab92-00f5d7cd340c",
   "metadata": {},
   "source": [
    "# Graphical Representation of Poisson Distribution\n",
    "from scipy.stats import poisson\n",
    "import numpy as np\n",
    "import matplotlib.pyplot as plt\n",
    "x = np.arange(0,100,0.5) ##Change step size .5 to 1 and see the graph.\n",
    "y = poisson.pmf(x, mu=40)\n",
    "plt.scatter(x,y)\n",
    "plt.plot(x, y)\n",
    "plt.show()"
   ]
  },
  {
   "cell_type": "markdown",
   "id": "f19f9042-1d55-4403-9838-08c6e8dd89f1",
   "metadata": {},
   "source": [
    "# Q1:\n",
    "# A store sells 3 apples per day on average. What is the probability that they will sell 5 apples on a given day? \r",
    "##\n",
    "\n",
    "from scipy.stats import poisson\r\n",
    "#calculate probability\r\n",
    "poisson.pmf(k=5, mu819\r\n"
   ]
  },
  {
   "cell_type": "markdown",
   "id": "cfea67eb-629a-486b-a6b0-a2664918b522",
   "metadata": {},
   "source": [
    "# Q2\n",
    "# A certain store sells seven footballs per day on average. What is the probability that this store sells four or less footballs in a given day?"
   ]
  },
  {
   "cell_type": "markdown",
   "id": "2ac875b4-287e-40ed-a330-14bee367aedd",
   "metadata": {},
   "source": [
    "poisson.cdf(k=4, mu=7)"
   ]
  },
  {
   "cell_type": "markdown",
   "id": "d4804d0d-9ad7-45d6-a12d-e87ec3ca327a",
   "metadata": {},
   "source": [
    "# Q3\n",
    "# A certain store sells 15 cans of tuna per day on average. What is the probability that this store sells more than 20 cans of tuna in a given day?"
   ]
  },
  {
   "cell_type": "markdown",
   "id": "3b3f39bb-afc7-4889-9149-f6a0baa28e41",
   "metadata": {},
   "source": [
    "                1-poisson.cdf (k=20, mu=15)"
   ]
  },
  {
   "cell_type": "markdown",
   "id": "2721fbc2-3891-4b4e-98bb-6fb245f67aff",
   "metadata": {},
   "source": [
    "# Normal Distribution\n"
   ]
  },
  {
   "cell_type": "markdown",
   "id": "b95af1b3-2ff6-4a17-bc12-41cc83da63c1",
   "metadata": {},
   "source": [
    "# Suppose there are 100 students in the class and in one of the mathematics tests the average marks scored by the students in the subject is 78 and the standard deviation is 25. The marks of the student follow Normal probability distribution. "
   ]
  },
  {
   "cell_type": "markdown",
   "id": "c7dd90fc-4bc0-4835-b04a-38ee5c0c17cf",
   "metadata": {},
   "source": [
    "# Q1\n",
    "# Use above to find Percentage of Students who got less than 60 marks."
   ]
  },
  {
   "cell_type": "code",
   "execution_count": 13,
   "id": "754063c1-956c-4bf8-a0ed-94d1b7580b78",
   "metadata": {},
   "outputs": [
    {
     "name": "stdout",
     "output_type": "stream",
     "text": [
      "Percentage of students who got less than 60 marks: 23.58 %\n"
     ]
    }
   ],
   "source": [
    "from scipy.stats import norm\n",
    "mean = 78\n",
    "std_dev = 25\n",
    "total_students = 100\n",
    "score = 60\n",
    "z_score = (score - mean) / std_dev\n",
    "prob = norm.cdf(z_score)\n",
    "percent = prob * 100\n",
    "print(\"Percentage of students who got less than 60 marks:\", round(percent, 2), \"%\")\n"
   ]
  },
  {
   "cell_type": "markdown",
   "id": "fe86a279-0d9f-4d0e-a118-def999609cb3",
   "metadata": {},
   "source": [
    "# Q2\n",
    "# To get the percentage of people who have scored more than 70"
   ]
  },
  {
   "cell_type": "code",
   "execution_count": 15,
   "id": "5ee8d8a8-c6b5-4c91-9f46-77659044bd01",
   "metadata": {},
   "outputs": [
    {
     "name": "stdout",
     "output_type": "stream",
     "text": [
      "Percentage of students who got more than 70 marks:  62.55  %\n"
     ]
    }
   ],
   "source": [
    "score=70\n",
    "z_score = (score - mean) / std_dev\n",
    "prob = norm.cdf(z_score)\n",
    "percent = (1-prob) * 100\n",
    "print(\"Percentage of students who got more than 70 marks: \", round(percent, 2), \" %\")"
   ]
  },
  {
   "cell_type": "markdown",
   "id": "7ce6b9a2-de0b-4d63-9f9f-21653271ed4d",
   "metadata": {},
   "source": [
    "# Q3\n",
    "# Percentage of Students who have scored More than 75 and less than 85"
   ]
  },
  {
   "cell_type": "code",
   "execution_count": 17,
   "id": "551e072a-b492-4ac1-9ecd-ada81ff6ccca",
   "metadata": {},
   "outputs": [],
   "source": []
  },
  {
   "cell_type": "markdown",
   "id": "e7ecc1bb-0cf3-466e-850b-9a2e2dd9db37",
   "metadata": {},
   "source": [
    "# Empirical Rule of Standard Normal Distribution\n"
   ]
  },
  {
   "cell_type": "code",
   "execution_count": 21,
   "id": "e31c0f70-3db1-4a7c-959a-6a39894ac6c1",
   "metadata": {},
   "outputs": [
    {
     "name": "stdout",
     "output_type": "stream",
     "text": [
      "Fraction of values within one SD = 0.6826894921370859\n",
      "Fraction of values within two SD = 0.9544997361036416\n",
      "Fraction of values within three SD = 0.9973002039367398\n"
     ]
    }
   ],
   "source": [
    "mean = 0\n",
    "SD = 1\n",
    "one_sd = norm.cdf(SD, mean, SD) - norm.cdf(-SD, mean, SD)\n",
    "two_sd = norm.cdf(2 * SD, mean, SD) - norm.cdf(-2 * SD, mean, SD)\n",
    "three_sd = norm.cdf(3 * SD, mean, SD) - norm.cdf(-3 * SD, mean, SD)\n",
    "print(\"Fraction of values within one SD =\", one_sd)\n",
    "print(\"Fraction of values within two SD =\", two_sd)\n",
    "print(\"Fraction of values within three SD =\", three_sd)\n"
   ]
  },
  {
   "cell_type": "markdown",
   "id": "c46c7771-22f7-46c5-83e1-5dfc587660df",
   "metadata": {},
   "source": [
    "# Value of Z <= .025"
   ]
  },
  {
   "cell_type": "code",
   "execution_count": 26,
   "id": "e132d830-af78-4eb3-af9b-b3fe96421cd4",
   "metadata": {},
   "outputs": [
    {
     "data": {
      "text/plain": [
       "-1.9599639845400545"
      ]
     },
     "execution_count": 26,
     "metadata": {},
     "output_type": "execute_result"
    }
   ],
   "source": [
    "norm.ppf(.025)"
   ]
  },
  {
   "cell_type": "markdown",
   "id": "02bd85f3-9925-4a46-ac6b-0400aa51d5fd",
   "metadata": {},
   "source": [
    "### To display area"
   ]
  },
  {
   "cell_type": "code",
   "execution_count": 19,
   "id": "f7a87432-bb3f-4e44-a15c-d0655811a7b5",
   "metadata": {},
   "outputs": [
    {
     "data": {
      "image/png": "[encoded data removed]",
      "text/plain": [
       "<Figure size 640x480 with 1 Axes>"
      ]
     },
     "metadata": {},
     "output_type": "display_data"
    }
   ],
   "source": [
    "import numpy as np\n",
    "from scipy import stats\n",
    "import matplotlib.pyplot as plt\n",
    "x_axis = np.arange(-10, 10, 0.001)\n",
    "avg = 0\n",
    "std = 1\n",
    "pdf = stats.norm.pdf (x_axis, avg, std)\n",
    "plt.plot(x_axis, pdf)\n",
    "std_lim = 1.96 # 95% CI stats.norm.ppf(.025)\n",
    "low = avg-std_lim*std\n",
    "high = avg+std_lim*std\n",
    "plt.fill_between(x_axis, pdf, where=(low < x_axis) & (x_axis < high))\n",
    "plt.text(low, 0, low, ha='center')\n",
    "plt.text(high, 0, high, ha='center')\n",
    "plt.show()\n"
   ]
  },
  {
   "cell_type": "markdown",
   "id": "af0229e6-9c50-4d4f-b6ab-6ffb1a406a67",
   "metadata": {},
   "source": [
    "# We have a file students.csv. Using this file draw Histogram to show frequency distribution of age\n",
    "# https://userpage.fu-berlin.de/soga/200/2010_data_sets/students.csv"
   ]
  },
  {
   "cell_type": "code",
   "execution_count": 30,
   "id": "ad715063-a80a-4254-97b1-807c2d6150cc",
   "metadata": {},
   "outputs": [
    {
     "data": {
      "image/png": "[encoded data removed]",
      "text/plain": [
       "<Figure size 1000x500 with 1 Axes>"
      ]
     },
     "metadata": {},
     "output_type": "display_data"
    }
   ],
   "source": [
    "import pandas as pd\n",
    "students = pd.read_csv(\n",
    "   \"AI-MLData/students.csv\"\n",
    ")\n",
    "count_row = students.shape[0]  # number of rows\n",
    "count_col = students.shape[1]  # number of columns\n",
    "column_names = students.columns  # column names\n",
    "plt.figure(figsize=(10, 5))\n",
    "plt.hist(students[\"height\"], bins=\"sturges\", color=\"lightgreen\", edgecolor=\"grey\")\n",
    "\n",
    "# k=1+3.322logn \n",
    "\n",
    "plt.xlabel(\"Height in cm\")\n",
    "plt.ylabel(\"Frequency\")\n",
    "plt.show()\n",
    "\n",
    "\n"
   ]
  },
  {
   "cell_type": "markdown",
   "id": "61d16e5b-e9af-45ba-91a0-148e87868a3a",
   "metadata": {},
   "source": [
    "males = students.loc[students[\"gender\"] == \"Male\"]\n",
    "females = students.loc[students[\"gender\"] == \"Female\"]\n",
    "## plot by gender\n",
    "plt.figure(figsize=(10, 5))\n",
    "plt.hist(males[\"height\"], bins=\"sturges\", color=\"lightblue\", edgecolor=\"grey\")\n",
    "plt.hist(females[\"height\"], bins=\"sturges\", color=\"lightgreen\", edgecolor=\"grey\")\n",
    "plt.xlabel(\"Height in cm\")\n",
    "plt.ylabel(\"Frequency\")\n",
    "plt.title(\"Females and Males\", fontsize=16)\n",
    "plt.show()\n"
   ]
  },
  {
   "cell_type": "markdown",
   "id": "773b5943-8f29-459d-9b25-3112d4352766",
   "metadata": {},
   "source": [
    "# Question Based on student.csv\n"
   ]
  },
  {
   "cell_type": "markdown",
   "id": "367a21fb-2473-4127-a65a-6fa74c1ec799",
   "metadata": {},
   "source": [
    "# Q1. What is the probability of a randomly picked female student from the student data set with a height less or equal to 168 cm? "
   ]
  },
  {
   "cell_type": "code",
   "execution_count": 42,
   "id": "ed67711a-2746-4317-802a-e31e5c838956",
   "metadata": {},
   "outputs": [
    {
     "data": {
      "text/plain": [
       "0.7084446690628331"
      ]
     },
     "execution_count": 42,
     "metadata": {},
     "output_type": "execute_result"
    }
   ],
   "source": [
    "females = students.loc[students[\"gender\"] == \"Female\"]\n",
    "fhmean=females[\"height\"].mean()\n",
    "fhsd=females[\"height\"].std()\n",
    "x = 168  # height in cm\n",
    "x_z = (x - fhmean) / fhsd  # z-transformation\n",
    "stats.norm.cdf(x_z)"
   ]
  },
  {
   "cell_type": "code",
   "execution_count": null,
   "id": "2b6df540-a544-4619-8b27-184cf3a1bcec",
   "metadata": {},
   "outputs": [],
   "source": [
    "# Q2. What is the probability of a randomly picked female student from the student data set with a height higher or equal to 175 cm."
   ]
  },
  {
   "cell_type": "markdown",
   "id": "c88f5eb7-ad83-4413-ba85-69092e85e7e7",
   "metadata": {},
   "source": [
    "# Q3. What is the probability of a randomly picked female student from the student data set with a height between 170 and 180 cm"
   ]
  },
  {
   "cell_type": "markdown",
   "id": "19a4cb6b-96f7-41d7-8709-0f3cac0fbe43",
   "metadata": {},
   "source": [
    "# Q4. What is the height of female students in our students data set that corresponds to a probability of 0.60? "
   ]
  },
  {
   "cell_type": "markdown",
   "id": "b211cb63-d9fc-4e88-a187-aa6852884cfe",
   "metadata": {},
   "source": [
    " z = stats.norm.ppf(0.6, loc=0, scale=1), X= Z+mu*sigma ]"
   ]
  },
  {
   "cell_type": "markdown",
   "id": "91fc1d9e-652a-417e-81de-5a31823e6ca2",
   "metadata": {},
   "source": [
    "pd.set_option('display.max_rows', 500)\r\n",
    "pd.set_option('display.max_columns', 500)\r\n",
    "pd.set_option('display.width', 1000)"
   ]
  },
  {
   "cell_type": "code",
   "execution_count": null,
   "id": "46a3c904-ac6b-40dc-9c32-9dc903b72736",
   "metadata": {},
   "outputs": [],
   "source": []
  }
 ],
 "metadata": {
  "kernelspec": {
   "display_name": "Python 3 (ipykernel)",
   "language": "python",
   "name": "python3"
  },
  "language_info": {
   "codemirror_mode": {
    "name": "ipython",
    "version": 3
   },
   "file_extension": ".py",
   "mimetype": "text/x-python",
   "name": "python",
   "nbconvert_exporter": "python",
   "pygments_lexer": "ipython3",
   "version": "3.12.7"
  },
  "panel-cell-order": [
   "653b7b7d-8428-4f97-b514-3547b13bf9f1"
  ]
 },
 "nbformat": 4,
 "nbformat_minor": 5
}
