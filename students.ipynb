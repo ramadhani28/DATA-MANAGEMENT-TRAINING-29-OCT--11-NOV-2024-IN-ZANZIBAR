{
 "cells": [
  {
   "cell_type": "code",
   "execution_count": 3,
   "id": "6aaa95a6-d10e-4380-a0de-3767fc07926e",
   "metadata": {},
   "outputs": [
    {
     "name": "stdout",
     "output_type": "stream",
     "text": [
      "(8239, 16)\n",
      "      stud.id                 name  gender  age  height  weight    religion  \\\n",
      "0      833917  Gonzales, Christina  Female   19     160    64.8      Muslim   \n",
      "1      898539       Lozano, T'Hani  Female   19     172    73.0       Other   \n",
      "2      379678       Williams, Hanh  Female   22     168    70.6  Protestant   \n",
      "3      807564          Nem, Denzel    Male   19     183    79.7       Other   \n",
      "4      383291      Powell, Heather  Female   21     175    71.4    Catholic   \n",
      "...       ...                  ...     ...  ...     ...     ...         ...   \n",
      "8234   818044          Her, Joshua    Male   22     181    79.1  Protestant   \n",
      "8235   560166           Reid, Jose    Male   23     178    72.6    Catholic   \n",
      "8236   380174     Villa, Raechelle  Female   20     169    67.7       Other   \n",
      "8237   540967         Ngo, Preston    Male   23     195    98.6       Other   \n",
      "8238   413207     Bernhard, Estela  Female   19     170    69.0      Muslim   \n",
      "\n",
      "      nc.score semester                   major                       minor  \\\n",
      "0         1.91      1st       Political Science             Social Sciences   \n",
      "1         1.56      2nd         Social Sciences  Mathematics and Statistics   \n",
      "2         1.24      3rd         Social Sciences  Mathematics and Statistics   \n",
      "3         1.37      2nd  Environmental Sciences  Mathematics and Statistics   \n",
      "4         1.46      1st  Environmental Sciences  Mathematics and Statistics   \n",
      "...        ...      ...                     ...                         ...   \n",
      "8234      2.91      6th  Environmental Sciences             Social Sciences   \n",
      "8235      2.03      2nd  Environmental Sciences  Mathematics and Statistics   \n",
      "8236      3.72      3rd  Environmental Sciences       Economics and Finance   \n",
      "8237      2.74      4th         Social Sciences           Political Science   \n",
      "8238      3.29     >6th       Political Science                     Biology   \n",
      "\n",
      "      score1  score2  online.tutorial  graduated       salary  \n",
      "0        NaN     NaN                0          0          NaN  \n",
      "1        NaN     NaN                0          0          NaN  \n",
      "2       45.0    46.0                0          0          NaN  \n",
      "3        NaN     NaN                0          0          NaN  \n",
      "4        NaN     NaN                0          0          NaN  \n",
      "...      ...     ...              ...        ...          ...  \n",
      "8234    73.0    71.0                0          1  36750.08713  \n",
      "8235     NaN     NaN                0          0          NaN  \n",
      "8236    77.0    75.0                1          0          NaN  \n",
      "8237    50.0    46.0                1          1  40112.04183  \n",
      "8238    47.0    59.0                1          1  45900.13446  \n",
      "\n",
      "[8239 rows x 16 columns]\n"
     ]
    }
   ],
   "source": [
    "import pandas as pd\n",
    "import numpy as np\n",
    "import matplotlib.pyplot as plt\n",
    "students = pd.read_csv(\"students.csv\")\n",
    "count_row = students.shape[0] \n",
    "count_column = students.shape[1]\n",
    "column_names = students.columns\n",
    "print(students.shape)\n",
    "print(students)"
   ]
  },
  {
   "cell_type": "code",
   "execution_count": 6,
   "id": "f2c40312-c144-4245-86b0-f13e3bba6e9f",
   "metadata": {},
   "outputs": [
    {
     "name": "stdout",
     "output_type": "stream",
     "text": [
      "Missing Data:\n",
      "       stud.id   name  gender    age  height  weight  religion  nc.score  \\\n",
      "0       False  False   False  False   False   False     False     False   \n",
      "1       False  False   False  False   False   False     False     False   \n",
      "2       False  False   False  False   False   False     False     False   \n",
      "3       False  False   False  False   False   False     False     False   \n",
      "4       False  False   False  False   False   False     False     False   \n",
      "...       ...    ...     ...    ...     ...     ...       ...       ...   \n",
      "8234    False  False   False  False   False   False     False     False   \n",
      "8235    False  False   False  False   False   False     False     False   \n",
      "8236    False  False   False  False   False   False     False     False   \n",
      "8237    False  False   False  False   False   False     False     False   \n",
      "8238    False  False   False  False   False   False     False     False   \n",
      "\n",
      "      semester  major  minor  score1  score2  online.tutorial  graduated  \\\n",
      "0        False  False  False    True    True            False      False   \n",
      "1        False  False  False    True    True            False      False   \n",
      "2        False  False  False   False   False            False      False   \n",
      "3        False  False  False    True    True            False      False   \n",
      "4        False  False  False    True    True            False      False   \n",
      "...        ...    ...    ...     ...     ...              ...        ...   \n",
      "8234     False  False  False   False   False            False      False   \n",
      "8235     False  False  False    True    True            False      False   \n",
      "8236     False  False  False   False   False            False      False   \n",
      "8237     False  False  False   False   False            False      False   \n",
      "8238     False  False  False   False   False            False      False   \n",
      "\n",
      "      salary  \n",
      "0       True  \n",
      "1       True  \n",
      "2       True  \n",
      "3       True  \n",
      "4       True  \n",
      "...      ...  \n",
      "8234   False  \n",
      "8235    True  \n",
      "8236    True  \n",
      "8237   False  \n",
      "8238   False  \n",
      "\n",
      "[8239 rows x 16 columns]\n"
     ]
    }
   ],
   "source": [
    "missing_data = students.isnull()\n",
    "print(\"Missing Data:\\n\", missing_data)"
   ]
  },
  {
   "cell_type": "code",
   "execution_count": 9,
   "id": "d45147f5-2c44-47f1-ade2-5fe94fd13187",
   "metadata": {},
   "outputs": [
    {
     "name": "stdout",
     "output_type": "stream",
     "text": [
      "\n",
      "Missing Data Summary (in percentage):\n",
      " stud.id             0.000000\n",
      "name                0.000000\n",
      "gender              0.000000\n",
      "age                 0.000000\n",
      "height              0.000000\n",
      "weight              0.000000\n",
      "religion            0.000000\n",
      "nc.score            0.000000\n",
      "semester            0.000000\n",
      "major               0.000000\n",
      "minor               0.000000\n",
      "score1             40.623862\n",
      "score2             40.623862\n",
      "online.tutorial     0.000000\n",
      "graduated           0.000000\n",
      "salary             78.723146\n",
      "dtype: float64\n"
     ]
    }
   ],
   "source": [
    "# Summary of missing values\n",
    "missing_summary = students.isnull().sum() / len(students) * 100\n",
    "print(\"\\nMissing Data Summary (in percentage):\\n\", missing_summary)"
   ]
  },
  {
   "cell_type": "code",
   "execution_count": 28,
   "id": "33f38e71-977a-46ce-a9a0-6783ab2537a8",
   "metadata": {},
   "outputs": [],
   "source": [
    "mean_salary = students['salary'].mean()\n",
    "score1_mean = students['score2'].mean()\n",
    "score2_mean = students['score2'].mean()\n",
    "height_mean = students['height'].mean()\n",
    "students.fillna({'score1':score1_mean, 'score2':score2_mean,'salary':mean_salary,'height':height_mean}, inplace=True)"
   ]
  },
  {
   "cell_type": "code",
   "execution_count": 14,
   "id": "a381d790-375e-4f24-acb4-355dd7491613",
   "metadata": {},
   "outputs": [
    {
     "name": "stdout",
     "output_type": "stream",
     "text": [
      "\n",
      "Missing Data Summary (in percentage):\n",
      " stud.id             0.000000\n",
      "name                0.000000\n",
      "gender              0.000000\n",
      "age                 0.000000\n",
      "height              0.000000\n",
      "weight              0.000000\n",
      "religion            0.000000\n",
      "nc.score            0.000000\n",
      "semester            0.000000\n",
      "major               0.000000\n",
      "minor               0.000000\n",
      "score1             40.623862\n",
      "score2             40.623862\n",
      "online.tutorial     0.000000\n",
      "graduated           0.000000\n",
      "salary              0.000000\n",
      "dtype: float64\n"
     ]
    }
   ],
   "source": [
    "# Summary of missing values\n",
    "missing_summary = students.isnull().sum() / len(students) * 100\n",
    "print(\"\\nMissing Data Summary (in percentage):\\n\", missing_summary)"
   ]
  },
  {
   "cell_type": "code",
   "execution_count": 30,
   "id": "6d05970b-c61f-4ecd-a72c-894c006ecae9",
   "metadata": {},
   "outputs": [
    {
     "data": {
      "text/plain": [
       "(array([   3.,   32.,  126.,  246.,  661., 1036., 1263., 1074., 1239.,\n",
       "        1148.,  786.,  372.,  207.,   38.,    8.]),\n",
       " array([135.        , 139.73333333, 144.46666667, 149.2       ,\n",
       "        153.93333333, 158.66666667, 163.4       , 168.13333333,\n",
       "        172.86666667, 177.6       , 182.33333333, 187.06666667,\n",
       "        191.8       , 196.53333333, 201.26666667, 206.        ]),\n",
       " <BarContainer object of 15 artists>)"
      ]
     },
     "execution_count": 30,
     "metadata": {},
     "output_type": "execute_result"
    },
    {
     "data": {
      "image/png": "[encoded data removed]",
      "text/plain": [
       "<Figure size 640x480 with 1 Axes>"
      ]
     },
     "metadata": {},
     "output_type": "display_data"
    }
   ],
   "source": [
    "import numpy as np\n",
    "import matplotlib.pyplot as plt\n",
    "plt.hist(students[\"height\"], bins=\"sturges\", color=\"lightgreen\", edgecolor=\"grey\")"
   ]
  },
  {
   "cell_type": "code",
   "execution_count": 34,
   "id": "e0662482-d881-49da-a130-89443a30eb5d",
   "metadata": {},
   "outputs": [
    {
     "data": {
      "image/png": "[encoded data removed]",
      "text/plain": [
       "<Figure size 640x480 with 1 Axes>"
      ]
     },
     "metadata": {},
     "output_type": "display_data"
    }
   ],
   "source": [
    "plt.boxplot(students['height'],vert=0)\n",
    "plt.title(\"Box Plot \")\n",
    "plt.ylabel(\"height\")\n",
    "\n",
    "plt.show()"
   ]
  },
  {
   "cell_type": "code",
   "execution_count": 41,
   "id": "fd290eba-d317-4212-b2a6-43e3c5889690",
   "metadata": {},
   "outputs": [
    {
     "name": "stdout",
     "output_type": "stream",
     "text": [
      "Outliers: [135, 206, 206]\n"
     ]
    },
    {
     "data": {
      "image/png": "[encoded data removed]",
      "text/plain": [
       "<Figure size 640x480 with 1 Axes>"
      ]
     },
     "metadata": {},
     "output_type": "display_data"
    }
   ],
   "source": [
    "import numpy as np\n",
    "import matplotlib.pyplot as plt\n",
    "Q1 = np.percentile(students['height'], 25)\n",
    "Q3 = np.percentile(students['height'], 75)\n",
    "IQR = Q3 - Q1\n",
    "lower_bound = Q1 - 1.5 * IQR\n",
    "upper_bound = Q3 + 1.5 * IQR\n",
    "outliers = [x for x in students['height'] if x < lower_bound or x > upper_bound]\n",
    "print(\"Outliers:\", outliers)\n",
    "plt.boxplot(students['height'],vert=0)\n",
    "plt.show()"
   ]
  },
  {
   "cell_type": "code",
   "execution_count": 86,
   "id": "6218d385-a905-4b78-8eb5-ba9b64588baa",
   "metadata": {},
   "outputs": [
    {
     "name": "stdout",
     "output_type": "stream",
     "text": [
      "0       160\n",
      "1       172\n",
      "2       168\n",
      "3       183\n",
      "4       175\n",
      "       ... \n",
      "8234    181\n",
      "8235    178\n",
      "8236    169\n",
      "8237    195\n",
      "8238    170\n",
      "Name: height, Length: 8236, dtype: int64\n",
      "Outliers: []\n"
     ]
    },
    {
     "data": {
      "image/png": "[encoded data removed]",
      "text/plain": [
       "<Figure size 640x480 with 1 Axes>"
      ]
     },
     "metadata": {},
     "output_type": "display_data"
    }
   ],
   "source": [
    "###Remove the outliers\n",
    "outliers = [135,206]\n",
    "students_filtered = students[~students['height'].isin(outliers)]\n",
    "print(students_filtered['height'])\n",
    "\n",
    "###Check again if the outliers have been removed\n",
    "import numpy as np\n",
    "import matplotlib.pyplot as plt\n",
    "data = students_filtered['height'] # required data is for column \"height\"\n",
    "Q1 = np.percentile(data, 25)\n",
    "Q3 = np.percentile(data, 75)\n",
    "IQR = Q3 - Q1\n",
    "lower_bound = Q1 - 1.5 * IQR\n",
    "upper_bound = Q3 + 1.5 * IQR\n",
    "outliers = [x for x in data if x < lower_bound or x > upper_bound]\n",
    "print (\"Outliers:\", outliers)\n",
    "plt.boxplot(data,vert=0)\n",
    "plt.show()"
   ]
  },
  {
   "cell_type": "code",
   "execution_count": 52,
   "id": "ef473c54-514c-4482-a4ae-555ed31f8c02",
   "metadata": {},
   "outputs": [
    {
     "name": "stdout",
     "output_type": "stream",
     "text": [
      "171.38075009103048 11.076856852612634\n"
     ]
    }
   ],
   "source": [
    "## What is the probability of randomly picked female student from the student data set with a height less or equal to 168cm?\n",
    "female = students.loc[students[\"gender\"]== \"Female\"]\n",
    "\n",
    "height = 168\n",
    "mean = np.mean(female['height'])\n",
    "std_dev = np.std(students['height'])\n",
    "print(mean,std_dev)\n",
    "z_height = (height - mean) / std_dev\n",
    "prob = norm.cdf(z_height)\n",
    "percent = prob * 100\n",
    "print(\"percentage of students female who got less than 168 :\", round(percent,2), \"%\")\n"
   ]
  },
  {
   "cell_type": "code",
   "execution_count": 61,
   "id": "16588096-cc11-4bb1-9f4a-6fa5435ba723",
   "metadata": {},
   "outputs": [
    {
     "name": "stdout",
     "output_type": "stream",
     "text": [
      "163.65328467153284 7.918762263149207\n",
      "percentage of students female who got less than 168 : 70.85 %\n"
     ]
    }
   ],
   "source": [
    "## What is the probability of randomly picked female student from the student data set with a height less or equal to 168cm?\n",
    "from scipy.stats import norm\n",
    "female = students.loc[students[\"gender\"]== \"Female\"]\n",
    "\n",
    "height = 168\n",
    "mean = np.mean(female['height'])\n",
    "std_dev = np.std(female['height'])\n",
    "print(mean,std_dev)\n",
    "z_height = (height - mean) / std_dev\n",
    "prob = norm.cdf(z_height)\n",
    "percent = prob * 100\n",
    "print(\"percentage of students female who got less than 168 :\", round(percent,2), \"%\")"
   ]
  },
  {
   "cell_type": "code",
   "execution_count": 78,
   "id": "f4d55824-c4d0-406a-91df-83f09d8bae34",
   "metadata": {},
   "outputs": [
    {
     "name": "stdout",
     "output_type": "stream",
     "text": [
      "163.65328467153284 7.918762263149207\n",
      "percentage of students female who got greater than 175 : 7.59 %\n"
     ]
    }
   ],
   "source": [
    "## What is the probability of randomly picked female student from the student data set with a height less or equal to 168cm?\n",
    "from scipy.stats import norm\n",
    "female = students.loc[students[\"gender\"]== \"Female\"]\n",
    "\n",
    "height = 175\n",
    "mean = np.mean(female['height'])\n",
    "std_dev = np.std(female['height'])\n",
    "print(mean,std_dev)\n",
    "z_height = (height - mean) / std_dev\n",
    "prob = norm.cdf(z_height)\n",
    "percent = (1-prob) * 100\n",
    "print(\"percentage of students female who got greater than 175 :\", round(percent,2), \"%\")"
   ]
  },
  {
   "cell_type": "code",
   "execution_count": 76,
   "id": "3282a04d-14df-47f3-b44d-e1904d5da3f8",
   "metadata": {},
   "outputs": [
    {
     "name": "stdout",
     "output_type": "stream",
     "text": [
      "percentage of female who got height greater than 170  and less than 180 : 19.19 %\n"
     ]
    }
   ],
   "source": [
    "\n",
    "from scipy.stats import norm\n",
    "mean = np.mean(female['height'])\n",
    "std_dev = np.std(female['height'])\n",
    "height1 = 170\n",
    "height2 = 180\n",
    "z_height1 = (height1 - mean) / std_dev\n",
    "z_height2 = (height2 - mean) / std_dev\n",
    "prob= norm.cdf(z_height2) - norm.cdf(z_height1)\n",
    "percent = prob * 100\n",
    "print(\"percentage of female who got height greater than 170  and less than 180 :\", round(percent,2), \"%\")"
   ]
  },
  {
   "cell_type": "code",
   "execution_count": 84,
   "id": "454d438e-c770-4f0e-aef4-59f71433b30a",
   "metadata": {},
   "outputs": [
    {
     "name": "stdout",
     "output_type": "stream",
     "text": [
      "165.65948015132278\n"
     ]
    }
   ],
   "source": [
    "prob= 0.60\n",
    "mean = np.mean(female['height'])\n",
    "std_dev = np.std(female['height'])\n",
    "height1= prob * std_dev + mean\n",
    "height= norm.ppf(prob, mean, std_dev)\n",
    "print(height)"
   ]
  },
  {
   "cell_type": "code",
   "execution_count": null,
   "id": "77f8280b-a2ee-4f70-b6db-c989f3ab8198",
   "metadata": {},
   "outputs": [],
   "source": []
  }
 ],
 "metadata": {
  "kernelspec": {
   "display_name": "Python 3 (ipykernel)",
   "language": "python",
   "name": "python3"
  },
  "language_info": {
   "codemirror_mode": {
    "name": "ipython",
    "version": 3
   },
   "file_extension": ".py",
   "mimetype": "text/x-python",
   "name": "python",
   "nbconvert_exporter": "python",
   "pygments_lexer": "ipython3",
   "version": "3.12.7"
  }
 },
 "nbformat": 4,
 "nbformat_minor": 5
}
