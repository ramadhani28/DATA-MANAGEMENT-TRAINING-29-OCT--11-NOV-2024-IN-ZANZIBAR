{
 "cells": [
  {
   "cell_type": "code",
   "execution_count": 2,
   "id": "ab57fb5a-ed8c-4861-8ced-5c1312b97930",
   "metadata": {},
   "outputs": [
    {
     "name": "stdout",
     "output_type": "stream",
     "text": [
      "()\n",
      "('1',)\n",
      "('1',)\n",
      "('10', '20')\n",
      "(2.5, 'Python', 10)\n"
     ]
    }
   ],
   "source": [
    "tuple1 = ()\n",
    "tuple2 = '1',\n",
    "tuple3 = ('1',)\n",
    "tuple4 = ('10','20')\n",
    "tuple5 = (2.5, 'Python', 10)\n",
    "print(tuple1)\n",
    "print(tuple2)\n",
    "print(tuple3)\n",
    "print(tuple4)\n",
    "print(tuple5)"
   ]
  },
  {
   "cell_type": "code",
   "execution_count": 6,
   "id": "0e29bf5e-6cf2-4e24-8bce-3b21df65e24b",
   "metadata": {},
   "outputs": [
    {
     "name": "stdout",
     "output_type": "stream",
     "text": [
      "dict_keys(['name', 'Roll No', 'marks'])\n",
      "dict_values(['arielle', 1, 100])\n"
     ]
    }
   ],
   "source": [
    "student = dict()\n",
    "student[\"name\"] = \"arielle\"\n",
    "student[\"Roll No\"] = 1\n",
    "student[\"marks\"] = 100\n",
    "print(student.keys())\n",
    "print(student.values())"
   ]
  },
  {
   "cell_type": "code",
   "execution_count": null,
   "id": "635b9cfe-3718-4f34-9567-a2fd8265aff9",
   "metadata": {},
   "outputs": [],
   "source": []
  }
 ],
 "metadata": {
  "kernelspec": {
   "display_name": "Python 3 (ipykernel)",
   "language": "python",
   "name": "python3"
  },
  "language_info": {
   "codemirror_mode": {
    "name": "ipython",
    "version": 3
   },
   "file_extension": ".py",
   "mimetype": "text/x-python",
   "name": "python",
   "nbconvert_exporter": "python",
   "pygments_lexer": "ipython3",
   "version": "3.12.7"
  }
 },
 "nbformat": 4,
 "nbformat_minor": 5
}
