{
 "cells": [
  {
   "cell_type": "code",
   "execution_count": 8,
   "id": "5884c908-6372-4854-9d2c-badcd7cf23bd",
   "metadata": {},
   "outputs": [],
   "source": [
    "import numpy as np\n",
    "from scipy import stats\n",
    "data = [1, 2, 3, 4, 4,5, 6, 7, 8, 9, 10,10,10,11]\n"
   ]
  },
  {
   "cell_type": "markdown",
   "id": "96748993-a92d-4aab-91b3-8e90f00f12b7",
   "metadata": {},
   "source": [
    "# Central Tendency\n",
    "mean = np.mean(data)\n",
    "median = np.median(data)\n",
    "mode = stats.mode(data)\n"
   ]
  },
  {
   "cell_type": "code",
   "execution_count": 10,
   "id": "c4d384db-8fd4-4e2c-8c57-cdbc1c9e8f39",
   "metadata": {},
   "outputs": [
    {
     "name": "stdout",
     "output_type": "stream",
     "text": [
      "6.428571428571429 6.5 ModeResult(mode=10, count=3)\n"
     ]
    }
   ],
   "source": [
    "mean=np.mean(data)\n",
    "median=np.median(data)\n",
    "mode=stats.mode(data)\n",
    "print(mean,median,mode)"
   ]
  },
  {
   "cell_type": "code",
   "execution_count": null,
   "id": "d0a69d11-2ec8-46d4-8394-1a3458859524",
   "metadata": {},
   "outputs": [],
   "source": []
  },
  {
   "cell_type": "code",
   "execution_count": null,
   "id": "0c365b36-2d65-4064-a068-4c4771158f3e",
   "metadata": {},
   "outputs": [],
   "source": []
  },
  {
   "cell_type": "code",
   "execution_count": null,
   "id": "6e843549-6319-4902-80e0-896e583ef73c",
   "metadata": {},
   "outputs": [],
   "source": []
  },
  {
   "cell_type": "code",
   "execution_count": null,
   "id": "06003cc5-87e3-462f-9def-0464e0382283",
   "metadata": {},
   "outputs": [],
   "source": []
  },
  {
   "cell_type": "code",
   "execution_count": null,
   "id": "7809b4bf-4210-4e91-a0e8-55b5d1d7b3f4",
   "metadata": {},
   "outputs": [],
   "source": []
  },
  {
   "cell_type": "code",
   "execution_count": null,
   "id": "bbbfe4df-f254-472b-9e12-147d423e06f1",
   "metadata": {},
   "outputs": [],
   "source": []
  },
  {
   "cell_type": "code",
   "execution_count": 14,
   "id": "3c2ca8ad-122f-4c96-8487-51df244e986b",
   "metadata": {},
   "outputs": [
    {
     "name": "stdout",
     "output_type": "stream",
     "text": [
      "3.2007652146297256 10.244897959183675 10\n"
     ]
    }
   ],
   "source": [
    "# Dispersion\n",
    "std_dev = np.std(data) ###Std Deviation\n",
    "variance = np.var(data)\n",
    "range_val = np.ptp(data)  # Max - Min\n",
    "print(std_dev,variance,range_val)"
   ]
  },
  {
   "cell_type": "code",
   "execution_count": 16,
   "id": "2bc0b27a-08db-4947-aed7-7da16960687b",
   "metadata": {},
   "outputs": [
    {
     "name": "stdout",
     "output_type": "stream",
     "text": [
      "4.0\n",
      "9.75\n"
     ]
    }
   ],
   "source": [
    "# Position\n",
    "percentile_25 = np.percentile(data, 25)\n",
    "print(percentile_25)\n",
    "percentile_75 = np.percentile(data, 75)\n",
    "print(percentile_75)"
   ]
  },
  {
   "cell_type": "code",
   "execution_count": 18,
   "id": "1d8d724e-903e-452c-9182-22aa1cc89d2a",
   "metadata": {},
   "outputs": [
    {
     "name": "stdout",
     "output_type": "stream",
     "text": [
      "-0.14269851742974327 -1.3396295296900054\n",
      "Skewness: -0.14269851742974327, Kurtosis: -1.3396295296900054\n"
     ]
    }
   ],
   "source": [
    "# Shape\n",
    "skewness = stats.skew(data)\n",
    "kurtosis = stats.kurtosis(data)\n",
    "print(skewness,kurtosis)\n",
    "print(f\"Skewness: {skewness}, Kurtosis: {kurtosis}\")"
   ]
  },
  {
   "cell_type": "code",
   "execution_count": 20,
   "id": "d54f8a5a-a932-4ab1-91e0-1da3fec47f65",
   "metadata": {},
   "outputs": [
    {
     "name": "stdout",
     "output_type": "stream",
     "text": [
      "Covariance matrix:\n",
      " [[2.5 2. ]\n",
      " [2.  2.5]]\n",
      "Covariance between x and y: 2.0\n"
     ]
    }
   ],
   "source": [
    "##Measure of Relationship\n",
    "\n",
    "x = [1, 2, 3, 4, 5] ## List\n",
    "y = [5, 4, 6, 8, 7]\n",
    "# Calculate covariance matrix\n",
    "cov_matrix = np.cov(x, y)\n",
    "print(\"Covariance matrix:\\n\", cov_matrix)\n",
    "# Covariance between x and y\n",
    "cov_xy = cov_matrix[0, 1]\n",
    "print(\"Covariance between x and y:\", cov_xy)\n"
   ]
  },
  {
   "cell_type": "code",
   "execution_count": 23,
   "id": "9f3b062b-1f51-4345-b4f0-d0c45d96086f",
   "metadata": {},
   "outputs": [
    {
     "name": "stdout",
     "output_type": "stream",
     "text": [
      "Correlation matrix:\n",
      " [[1.  0.8]\n",
      " [0.8 1. ]]\n",
      "Pearson correlation between x and y: 0.7999999999999999\n"
     ]
    }
   ],
   "source": [
    "##Correlation Coefficient\n",
    "correlation = np.corrcoef(x, y)\n",
    "print(\"Correlation matrix:\\n\", correlation)\n",
    "# Pearson correlation between x and y\n",
    "corr_xy = correlation[0, 1]\n",
    "print(\"Pearson correlation between x and y:\", corr_xy)"
   ]
  },
  {
   "cell_type": "markdown",
   "id": "7eb755e0-2b5f-4b12-9246-5eacc336ac0b",
   "metadata": {},
   "source": [
    "###Alternate way of correlation_coefficient using scipy"
   ]
  },
  {
   "cell_type": "markdown",
   "id": "c5f63a78-e7a2-4621-894c-71d57273390d",
   "metadata": {},
   "source": [
    "from scipy.stats import pearsonr\n",
    "# Pearson correlation coefficient and p-value\n",
    "corr, p_value = pearsonr(x, y)\n",
    "print(f\"Pearson correlation: {corr}, P-value: {p_value}\")"
   ]
  },
  {
   "cell_type": "markdown",
   "id": "bb528663-eecc-47f0-b273-4c26c192e6c6",
   "metadata": {},
   "source": [
    "##Outlier Detection\n"
   ]
  },
  {
   "cell_type": "code",
   "execution_count": 34,
   "id": "0a7940ab-f11b-4bd9-b224-13ac2855c0fd",
   "metadata": {},
   "outputs": [
    {
     "name": "stdout",
     "output_type": "stream",
     "text": [
      "Outliers: [100, -100]\n"
     ]
    }
   ],
   "source": [
    "import numpy as np\n",
    "import matplotlib.pyplot as plt\n",
    "data = [10, 12, 13, 14, 15, 100,-100]  # 100 is an outlier\n",
    "Q1 = np.percentile(data, 25)\n",
    "Q3 = np.percentile(data, 75)\n",
    "IQR = Q3 - Q1\n",
    "lower_bound = Q1 - 1.5 * IQR\n",
    "upper_bound = Q3 + 1.5 * IQR\n",
    "outliers = [x for x in data if x < lower_bound or x > upper_bound]\n",
    "print(\"Outliers:\", outliers)\n",
    "plt.boxplot(data,vert=0)\n",
    "plt.show()"
   ]
  },
  {
   "cell_type": "code",
   "execution_count": 25,
   "id": "2567a707-6737-4fd7-bb1d-02dea0e0172c",
   "metadata": {},
   "outputs": [],
   "source": [
    "#Box Plot"
   ]
  },
  {
   "cell_type": "code",
   "execution_count": 29,
   "id": "7f089343-1ba0-4977-a2a3-b93374199b3a",
   "metadata": {
    "scrolled": true
   },
   "outputs": [
    {
     "data": {
      "image/png": "[encoded data removed]",
      "text/plain": [
       "<Figure size 640x480 with 1 Axes>"
      ]
     },
     "metadata": {},
     "output_type": "display_data"
    }
   ],
   "source": [
    "import matplotlib.pyplot as plt\n",
    "data = [10, 12, 13, 14, 15, 100,-100]  # 100 is an outlier\n",
    "plt.boxplot(data,vert=0)\n",
    "plt.title(\"Box Plot \")\n",
    "plt.ylabel(\"Age\")\n",
    "\n",
    "plt.show()\n"
   ]
  },
  {
   "cell_type": "markdown",
   "id": "79860231-650f-42df-8877-90f36b366f10",
   "metadata": {},
   "source": [
    "##Missing Value\n",
    "import pandas as pd\n"
   ]
  },
  {
   "cell_type": "markdown",
   "id": "f02814f0-dc85-4f33-ba18-626c626431dd",
   "metadata": {},
   "source": [
    "# Sample data with missing values"
   ]
  },
  {
   "cell_type": "code",
   "execution_count": 36,
   "id": "24348aff-3f98-4559-8f7f-0ae8fa5d65af",
   "metadata": {},
   "outputs": [],
   "source": [
    "data = {'A': [1, 2, np.nan, 4],\n",
    "        'B': [5, np.nan, np.nan, 8],\n",
    "        'C': [10, 11, 12, 13]}\n"
   ]
  },
  {
   "cell_type": "markdown",
   "id": "43b9ed35-e0da-4133-b577-ba518d28d4c9",
   "metadata": {},
   "source": [
    "data"
   ]
  },
  {
   "cell_type": "markdown",
   "id": "43a0cad5-13d0-4068-b4f1-f913696fc65f",
   "metadata": {},
   "source": [
    "Convert Dictionary to DataFrame"
   ]
  },
  {
   "cell_type": "code",
   "execution_count": 40,
   "id": "1084039c-ad5d-4953-bf11-9ae0c54e7989",
   "metadata": {},
   "outputs": [
    {
     "name": "stdout",
     "output_type": "stream",
     "text": [
      "     A    B   C\n",
      "0  1.0  5.0  10\n",
      "1  2.0  NaN  11\n",
      "2  NaN  NaN  12\n",
      "3  4.0  8.0  13\n"
     ]
    }
   ],
   "source": [
    "import pandas as pd\n",
    "df = pd.DataFrame(data)\n",
    "print(df)"
   ]
  },
  {
   "cell_type": "markdown",
   "id": "d31a1589-cb61-4f61-8bd7-d296d3992ee0",
   "metadata": {},
   "source": [
    "Detect missing values"
   ]
  },
  {
   "cell_type": "code",
   "execution_count": 42,
   "id": "8ddf931e-daae-429f-b2ac-bc7484a1d9ae",
   "metadata": {},
   "outputs": [
    {
     "name": "stdout",
     "output_type": "stream",
     "text": [
      "Missing Data:\n",
      "        A      B      C\n",
      "0  False  False  False\n",
      "1  False   True  False\n",
      "2   True   True  False\n",
      "3  False  False  False\n"
     ]
    }
   ],
   "source": [
    "missing_data = df.isnull()\n",
    "print(\"Missing Data:\\n\", missing_data)\n"
   ]
  },
  {
   "cell_type": "markdown",
   "id": "938e3a5d-d1fd-43f2-a557-ff83c6e3fb0e",
   "metadata": {},
   "source": [
    "Summary of Missing Data:\n",
    "You can calculate the percentage of missing values in each column."
   ]
  },
  {
   "cell_type": "code",
   "execution_count": 44,
   "id": "ea04d555-54ce-4487-8d50-12a6119554da",
   "metadata": {},
   "outputs": [
    {
     "name": "stdout",
     "output_type": "stream",
     "text": [
      "\n",
      "Missing Data Summary (in percentage):\n",
      " A    25.0\n",
      "B    50.0\n",
      "C     0.0\n",
      "dtype: float64\n"
     ]
    }
   ],
   "source": [
    "\n",
    "# Summary of missing values\n",
    "missing_summary = df.isnull().sum() / len(df) * 100\n",
    "print(\"\\nMissing Data Summary (in percentage):\\n\", missing_summary)\n"
   ]
  },
  {
   "cell_type": "markdown",
   "id": "10c6580f-4abd-46c6-8d2e-28529aa95dba",
   "metadata": {},
   "source": [
    "df.isna().sum()"
   ]
  },
  {
   "cell_type": "markdown",
   "id": "362f2c3a-0709-4129-a932-283ef42052c8",
   "metadata": {},
   "source": [
    "df.fillna(4)"
   ]
  },
  {
   "cell_type": "markdown",
   "id": "9c0a8049-3512-4dd7-9cf3-b88f5321fce9",
   "metadata": {},
   "source": [
    "df.isna().sum()"
   ]
  },
  {
   "cell_type": "code",
   "execution_count": 7,
   "id": "fb67b75b-d458-4d1b-82da-26125cdf60de",
   "metadata": {},
   "outputs": [
    {
     "ename": "NameError",
     "evalue": "name 'plt' is not defined",
     "output_type": "error",
     "traceback": [
      "\u001b[1;31m---------------------------------------------------------------------------\u001b[0m",
      "\u001b[1;31mNameError\u001b[0m                                 Traceback (most recent call last)",
      "Cell \u001b[1;32mIn[7], line 6\u001b[0m\n\u001b[0;32m      4\u001b[0m count_column \u001b[38;5;241m=\u001b[39m students\u001b[38;5;241m.\u001b[39mshape[\u001b[38;5;241m1\u001b[39m]\n\u001b[0;32m      5\u001b[0m column_names \u001b[38;5;241m=\u001b[39m students\u001b[38;5;241m.\u001b[39mcolumns\n\u001b[1;32m----> 6\u001b[0m plt\u001b[38;5;241m.\u001b[39mfigure(figsize\u001b[38;5;241m=\u001b[39m(\u001b[38;5;241m10\u001b[39m,\u001b[38;5;241m5\u001b[39m))\n",
      "\u001b[1;31mNameError\u001b[0m: name 'plt' is not defined"
     ]
    }
   ],
   "source": []
  },
  {
   "cell_type": "code",
   "execution_count": null,
   "id": "a7267b5a-2886-4ce4-8008-8a20a160d3fc",
   "metadata": {},
   "outputs": [],
   "source": []
  }
 ],
 "metadata": {
  "kernelspec": {
   "display_name": "Python 3 (ipykernel)",
   "language": "python",
   "name": "python3"
  },
  "language_info": {
   "codemirror_mode": {
    "name": "ipython",
    "version": 3
   },
   "file_extension": ".py",
   "mimetype": "text/x-python",
   "name": "python",
   "nbconvert_exporter": "python",
   "pygments_lexer": "ipython3",
   "version": "3.12.7"
  }
 },
 "nbformat": 4,
 "nbformat_minor": 5
}
