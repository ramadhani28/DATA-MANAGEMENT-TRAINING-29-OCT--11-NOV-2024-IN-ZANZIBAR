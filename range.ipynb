{
 "cells": [
  {
   "cell_type": "code",
   "execution_count": 2,
   "id": "07754159-97c0-4987-a5fc-9c84a07f9d4a",
   "metadata": {},
   "outputs": [
    {
     "name": "stdin",
     "output_type": "stream",
     "text": [
      "enter number 13\n"
     ]
    },
    {
     "name": "stdout",
     "output_type": "stream",
     "text": [
      "49\n"
     ]
    }
   ],
   "source": [
    "# user should enter  number n and find a sum of the odd number to that number n\n",
    "n = int(input(\"enter number\"))\n",
    "sumval = 0\n",
    "for x in range(1,n+1,2):\n",
    "    sumval=sumval+x\n",
    "print(sumval)"
   ]
  },
  {
   "cell_type": "code",
   "execution_count": 8,
   "id": "135cca80-1144-4743-99a4-6388fbe3a30f",
   "metadata": {},
   "outputs": [
    {
     "name": "stdin",
     "output_type": "stream",
     "text": [
      "enter number 17\n"
     ]
    },
    {
     "name": "stdout",
     "output_type": "stream",
     "text": [
      "72\n"
     ]
    }
   ],
   "source": [
    "# user should enter  number n and find a sum of the even number to that number n\n",
    "n = int(input(\"enter number\"))\n",
    "sumval = 0\n",
    "for x in range(0,n+1,2):\n",
    "    sumval=sumval+x\n",
    "print(sumval)"
   ]
  },
  {
   "cell_type": "code",
   "execution_count": null,
   "id": "2b5bcd41-c635-4116-bd5d-2887854d22aa",
   "metadata": {},
   "outputs": [],
   "source": []
  }
 ],
 "metadata": {
  "kernelspec": {
   "display_name": "Python 3 (ipykernel)",
   "language": "python",
   "name": "python3"
  },
  "language_info": {
   "codemirror_mode": {
    "name": "ipython",
    "version": 3
   },
   "file_extension": ".py",
   "mimetype": "text/x-python",
   "name": "python",
   "nbconvert_exporter": "python",
   "pygments_lexer": "ipython3",
   "version": "3.12.7"
  }
 },
 "nbformat": 4,
 "nbformat_minor": 5
}
