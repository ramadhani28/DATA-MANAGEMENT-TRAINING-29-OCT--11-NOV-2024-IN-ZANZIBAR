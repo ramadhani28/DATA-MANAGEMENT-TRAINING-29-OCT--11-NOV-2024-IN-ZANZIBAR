{
 "cells": [
  {
   "cell_type": "code",
   "execution_count": 2,
   "id": "1b6fe82a-a9fb-4085-beea-ee62e0b920a7",
   "metadata": {},
   "outputs": [
    {
     "name": "stdout",
     "output_type": "stream",
     "text": [
      "r\tp(r)\n",
      "0\t0.004096000000000003\n",
      "1\t0.03686400000000002\n",
      "2\t0.1382400000000001\n",
      "3\t0.2764800000000001\n",
      "4\t0.3110400000000001\n",
      "5\t0.1866240000000001\n",
      "6\t0.04665599999999999\n",
      "mean = 3.5999999999999996\n",
      "variance = 1.44\n"
     ]
    }
   ],
   "source": [
    "# binomial distribution\n",
    "from scipy.stats import binom\n",
    "n = 6\n",
    "p = 0.6\n",
    "r_values = list(range(n + 1))\n",
    "mean, var = binom.stats(n, p)\n",
    "dist = [binom.pmf(r,n,p) for r in r_values ]\n",
    "print(\"r\\tp(r)\")\n",
    "for i in range(n + 1):\n",
    "    print(str(r_values[i]) + \"\\t\" + str(dist[i]))\n",
    "print(\"mean = \" + str(mean))\n",
    "print(\"variance = \" + str(var))\n"
   ]
  },
  {
   "cell_type": "code",
   "execution_count": 7,
   "id": "cbc412c4-83d9-486a-ae04-2073fc855bd9",
   "metadata": {},
   "outputs": [
    {
     "name": "stdout",
     "output_type": "stream",
     "text": [
      "r\tp(r)\n",
      "0\t0.1353352832366127\n",
      "1\t0.2706705664732254\n",
      "2\t0.2706705664732254\n",
      "3\t0.18044704431548356\n",
      "4\t0.09022352215774178\n",
      "5\t0.03608940886309672\n",
      "mean = 2.0\n",
      "variance = 2.0\n"
     ]
    }
   ],
   "source": [
    "## poisson distribution\n",
    "# Let’s say that you are out on a long drive. The rate of occurrences of good restaurants in a range of 10 miles (or km) is 2. In other words, the mean number of occurrences of restaurants in a range of 10 KM or miles is 2. What is the probability that 0, 1, 2, 3, 4, or 5 restaurants will occur in the next 10 km.\n",
    "from scipy.stats import poisson\n",
    "n = 5\n",
    "lambda1 = 2\n",
    "r_values = list(range(n + 1))\n",
    "mean, var = poisson.stats(lambda1)\n",
    "dist = [poisson.pmf(r,lambda1) for r in r_values ]\n",
    "print(\"r\\tp(r)\")\n",
    "for i in range(n + 1):\n",
    "    print(str(r_values[i]) + \"\\t\" + str(dist[i]))\n",
    "print(\"mean = \" + str(mean))\n",
    "print(\"variance = \" + str(var))"
   ]
  },
  {
   "cell_type": "code",
   "execution_count": 10,
   "id": "46d8f734-f187-425f-8631-ae79848da50a",
   "metadata": {},
   "outputs": [
    {
     "name": "stdout",
     "output_type": "stream",
     "text": [
      "percentage of students who got less than 60 marks: 23.58 %\n"
     ]
    }
   ],
   "source": [
    "# commulative distribution function(normal distribution)\n",
    "from scipy.stats import norm\n",
    "mean = 78\n",
    "std_dev = 25\n",
    "total_students = 100\n",
    "score = 60\n",
    "z_score = (score - mean) / std_dev\n",
    "prob = norm.cdf(z_score)\n",
    "percent = prob * 100\n",
    "print(\"percentage of students who got less than 60 marks:\", round(percent,2), \"%\")"
   ]
  },
  {
   "cell_type": "code",
   "execution_count": 12,
   "id": "1674a9e9-fd09-42e0-9ffb-4817ee8fea96",
   "metadata": {},
   "outputs": [
    {
     "name": "stdout",
     "output_type": "stream",
     "text": [
      "percentage of students who got less than 70 marks: 62.55 %\n"
     ]
    }
   ],
   "source": [
    "from scipy.stats import norm\n",
    "mean = 78\n",
    "std_dev = 25\n",
    "total_students = 100\n",
    "score = 70\n",
    "z_score = (score - mean) / std_dev\n",
    "prob = norm.cdf(z_score)\n",
    "percent = prob * 100\n",
    "#percent = (1-prob) * 100\n",
    "percent1= 100 - percent\n",
    "print(\"percentage of students who got greater than 70 marks:\", round(percent1,2), \"%\")"
   ]
  },
  {
   "cell_type": "code",
   "execution_count": 18,
   "id": "bd0e9650-b774-49a0-8528-999be3913577",
   "metadata": {},
   "outputs": [
    {
     "name": "stdout",
     "output_type": "stream",
     "text": [
      "percentage of students who got less than 70 marks: 45.22 %\n",
      "percentage of students who got less than 85 marks: 61.03 %\n",
      "percentage of students who got greater than 75 marks and less than 85 marks: 15.8 %\n"
     ]
    }
   ],
   "source": [
    "#method 1\n",
    "from scipy.stats import norm\n",
    "mean = 78\n",
    "std_dev = 25\n",
    "total_students = 100\n",
    "score1 = 75\n",
    "score2 = 85\n",
    "z_score1 = (score1 - mean) / std_dev\n",
    "z_score2 = (score2 - mean) / std_dev\n",
    "prob1 = norm.cdf(z_score1)\n",
    "prob2 = norm.cdf(z_score2)\n",
    "percent1 = prob1 * 100\n",
    "percent2 = prob2 * 100\n",
    "#percent = (1-prob) * 100\n",
    "percent3=  percent2 - percent1\n",
    "print(\"percentage of students who got less than 75 marks:\", round(percent1,2), \"%\")\n",
    "print(\"percentage of students who got less than 85 marks:\", round(percent2,2), \"%\")\n",
    "print(\"percentage of students who got greater than 75 marks and less than 85 marks:\", round(percent3,2), \"%\")"
   ]
  },
  {
   "cell_type": "code",
   "execution_count": 20,
   "id": "13671ac0-dfeb-4834-b396-3014f62c61d1",
   "metadata": {},
   "outputs": [
    {
     "name": "stdout",
     "output_type": "stream",
     "text": [
      "percentage of students who got greater than 75 marks and less than 85 marks: 15.8 %\n"
     ]
    }
   ],
   "source": [
    "#method 2\n",
    "from scipy.stats import norm\n",
    "mean = 78\n",
    "std_dev = 25\n",
    "total_students = 100\n",
    "score1 = 75\n",
    "score2 = 85\n",
    "z_score1 = (score1 - mean) / std_dev\n",
    "z_score2 = (score2 - mean) / std_dev\n",
    "prob= norm.cdf(z_score2) - norm.cdf(z_score1)\n",
    "percent = prob * 100\n",
    "print(\"percentage of students who got greater than 75 marks and less than 85 marks:\", round(percent,2), \"%\")"
   ]
  },
  {
   "cell_type": "code",
   "execution_count": 22,
   "id": "02485fb4-ce4c-422a-b517-793f26077a76",
   "metadata": {},
   "outputs": [
    {
     "data": {
      "text/plain": [
       "-1.9599639845400545"
      ]
     },
     "execution_count": 22,
     "metadata": {},
     "output_type": "execute_result"
    }
   ],
   "source": [
    "norm.ppf(.025)"
   ]
  },
  {
   "cell_type": "code",
   "execution_count": 24,
   "id": "0b180360-a598-4bc4-aa82-ab5994724f34",
   "metadata": {},
   "outputs": [
    {
     "data": {
      "text/plain": [
       "0.9750021048517795"
      ]
     },
     "execution_count": 24,
     "metadata": {},
     "output_type": "execute_result"
    }
   ],
   "source": [
    "norm.cdf(1.96)"
   ]
  },
  {
   "cell_type": "code",
   "execution_count": 27,
   "id": "be8e491c-693d-4614-8aef-7d3ce88dde20",
   "metadata": {},
   "outputs": [
    {
     "ename": "NameError",
     "evalue": "name 'plt' is not defined",
     "output_type": "error",
     "traceback": [
      "\u001b[1;31m---------------------------------------------------------------------------\u001b[0m",
      "\u001b[1;31mNameError\u001b[0m                                 Traceback (most recent call last)",
      "Cell \u001b[1;32mIn[27], line 6\u001b[0m\n\u001b[0;32m      4\u001b[0m count_column \u001b[38;5;241m=\u001b[39m students\u001b[38;5;241m.\u001b[39mshape[\u001b[38;5;241m1\u001b[39m]\n\u001b[0;32m      5\u001b[0m column_names \u001b[38;5;241m=\u001b[39m students\u001b[38;5;241m.\u001b[39mcolumns\n\u001b[1;32m----> 6\u001b[0m plt\u001b[38;5;241m.\u001b[39mfigure(figsize\u001b[38;5;241m=\u001b[39m(\u001b[38;5;241m10\u001b[39m,\u001b[38;5;241m5\u001b[39m))\n",
      "\u001b[1;31mNameError\u001b[0m: name 'plt' is not defined"
     ]
    }
   ],
   "source": [
    "import pandas as pd\n",
    "students = pd.read_csv(\"students.csv\")\n",
    "count_row = students.shape[0] \n",
    "count_column = students.shape[1]\n",
    "column_names = students.columns\n",
    "plt.figure(figsize=(10,5))"
   ]
  },
  {
   "cell_type": "code",
   "execution_count": null,
   "id": "22d2be53-26e1-41fb-be82-356e4a3000b0",
   "metadata": {},
   "outputs": [],
   "source": []
  }
 ],
 "metadata": {
  "kernelspec": {
   "display_name": "Python 3 (ipykernel)",
   "language": "python",
   "name": "python3"
  },
  "language_info": {
   "codemirror_mode": {
    "name": "ipython",
    "version": 3
   },
   "file_extension": ".py",
   "mimetype": "text/x-python",
   "name": "python",
   "nbconvert_exporter": "python",
   "pygments_lexer": "ipython3",
   "version": "3.12.7"
  }
 },
 "nbformat": 4,
 "nbformat_minor": 5
}
