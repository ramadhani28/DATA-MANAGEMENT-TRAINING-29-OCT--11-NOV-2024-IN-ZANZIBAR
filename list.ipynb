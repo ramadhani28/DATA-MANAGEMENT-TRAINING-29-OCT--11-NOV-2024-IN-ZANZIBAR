{
 "cells": [
  {
   "cell_type": "code",
   "execution_count": 6,
   "id": "99214b96-7f75-41cb-8439-f28629933db1",
   "metadata": {},
   "outputs": [
    {
     "name": "stdout",
     "output_type": "stream",
     "text": [
      "[1, 2, 3, 4]\n",
      "[1, 'suman', 100.0]\n",
      "[1, [1, 2, 3, 4]]\n",
      "100 200 300 20\n",
      "1 suman 100.0\n"
     ]
    }
   ],
   "source": [
    "list1 = [1,2,3,4]\n",
    "list2 = [1, 'suman', 100.0]\n",
    "list3 = [1,[1,2,3,4]]\n",
    "print(list1)\n",
    "print(list2)\n",
    "print(list3)\n",
    "list4 = [10,[100,200,300],20,[1, 'suman', 100.0]]\n",
    "print(list4[1][0],list4[1][1], list4[1][2], list4[2])\n",
    "print(list4[3][0], list4[3][1], list4[3][2])"
   ]
  },
  {
   "cell_type": "code",
   "execution_count": 14,
   "id": "b6b2c80f-4d47-4f2e-a425-cb735dd4b7a0",
   "metadata": {},
   "outputs": [
    {
     "name": "stdout",
     "output_type": "stream",
     "text": [
      "negative indexing\n",
      "40 30 20\n",
      "slicing\n",
      "[10] [10, 20] [10, 20, 30]\n",
      "negative slicing\n",
      "[40] [30, 40] [20, 30, 40] [20] [20, 30] [10, 20, 30, 40]\n"
     ]
    }
   ],
   "source": [
    "list1 = [10,20,30,40]\n",
    "print (\"negative indexing\")\n",
    "print(list1[-1], list1[-2], list1[-3]) \n",
    "print(\"slicing\")\n",
    "print(list1[0:1], list1[0:2], list1[0:3])\n",
    "print(\"negative slicing\")\n",
    "print(list1[-1:], list1[-2:], list1[-3:], list1[-3:-2], list1[-3:-1], list1[-4:] ) "
   ]
  },
  {
   "cell_type": "code",
   "execution_count": 18,
   "id": "79e2a381-bc0d-47a6-97b6-a3001596727d",
   "metadata": {},
   "outputs": [
    {
     "name": "stdout",
     "output_type": "stream",
     "text": [
      "length of list is 3\n",
      "list after append is [10, 20, 30, 40]\n",
      "list after insert is [10, 20, 100, 30, 40]\n",
      "list after pop is [10, 20, 30, 40]\n",
      "list after remove is [10, 30, 40]\n",
      "list after reverse is [40, 30, 10]\n",
      "list after count is 1\n",
      "list after index is 0\n"
     ]
    }
   ],
   "source": [
    "# commont method - list\n",
    "list1 = [10,20,30]\n",
    "print ('length of list is', len(list1))\n",
    "list1.append(40)\n",
    "print ('list after append is', list1)\n",
    "list1.insert(2,100)\n",
    "print ('list after insert is', list1)\n",
    "list2 = [200,210,220]\n",
    "list1.pop(2)\n",
    "print ('list after pop is', list1)\n",
    "list1.remove(20)\n",
    "print ('list after remove is', list1)\n",
    "list1.reverse()\n",
    "print ('list after reverse is', list1)\n",
    "print ('list after count is', list1.count(40))\n",
    "print ('list after index is', list1.index(40))\n",
    "list1.sort()\n"
   ]
  },
  {
   "cell_type": "code",
   "execution_count": null,
   "id": "94e3d25a-ff50-4865-9ad0-b930525250d3",
   "metadata": {},
   "outputs": [],
   "source": []
  }
 ],
 "metadata": {
  "kernelspec": {
   "display_name": "Python 3 (ipykernel)",
   "language": "python",
   "name": "python3"
  },
  "language_info": {
   "codemirror_mode": {
    "name": "ipython",
    "version": 3
   },
   "file_extension": ".py",
   "mimetype": "text/x-python",
   "name": "python",
   "nbconvert_exporter": "python",
   "pygments_lexer": "ipython3",
   "version": "3.12.7"
  }
 },
 "nbformat": 4,
 "nbformat_minor": 5
}
