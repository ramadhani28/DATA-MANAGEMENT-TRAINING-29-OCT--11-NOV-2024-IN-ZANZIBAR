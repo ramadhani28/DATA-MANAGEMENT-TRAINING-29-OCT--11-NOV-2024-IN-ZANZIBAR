{
 "cells": [
  {
   "cell_type": "code",
   "execution_count": 4,
   "id": "0ef9610b-dd6b-4f17-85d1-e3177ea4212c",
   "metadata": {},
   "outputs": [
    {
     "name": "stdout",
     "output_type": "stream",
     "text": [
      "6.428571428571429 6.5 ModeResult(mode=10, count=3)\n"
     ]
    }
   ],
   "source": [
    "import numpy as np\n",
    "from scipy import stats\n",
    "data = [1,2,3,4,4,5,6,7,8,9,10,10,10,11]"
   ]
  },
  {
   "cell_type": "code",
   "execution_count": 6,
   "id": "5a0a6463-026c-4dfd-9eb6-46d7663559ce",
   "metadata": {},
   "outputs": [
    {
     "name": "stdout",
     "output_type": "stream",
     "text": [
      "6.428571428571429 6.5 ModeResult(mode=10, count=3)\n"
     ]
    }
   ],
   "source": [
    "#central tendency\n",
    "#mean = np.mean(data) median = np.median(data) mode = stas.mode(data)\n",
    "mean = np.mean(data)\n",
    "median = np.median(data)\n",
    "mode = stats.mode(data)\n",
    "print(mean,median,mode)\n",
    "\n"
   ]
  },
  {
   "cell_type": "code",
   "execution_count": 8,
   "id": "2a1de6ed-37b2-4039-90cb-60e3a9f71eab",
   "metadata": {},
   "outputs": [
    {
     "name": "stdout",
     "output_type": "stream",
     "text": [
      "3.2007652146297256 10.244897959183675 10\n"
     ]
    }
   ],
   "source": [
    "# dispersion\n",
    "std_dev = np.std(data) ## standard deviation\n",
    "variance = np.var(data)\n",
    "range_val = np.ptp(data) ## Max -Min\n",
    "print(std_dev,variance,range_val)"
   ]
  },
  {
   "cell_type": "code",
   "execution_count": 12,
   "id": "67ead3d7-a473-45a3-bc1c-5cd67135c866",
   "metadata": {},
   "outputs": [
    {
     "name": "stdout",
     "output_type": "stream",
     "text": [
      "4.0\n",
      "9.75\n"
     ]
    }
   ],
   "source": [
    "#position\n",
    "percentile_25 = np.percentile(data,25)\n",
    "print(percentile_25)\n",
    "percentile_75 = np.percentile(data,75)\n",
    "print(percentile_75) ## means 75 percent of data is less than 9.75 and twenty five percent is more than 9.75"
   ]
  },
  {
   "cell_type": "code",
   "execution_count": 14,
   "id": "494e7b38-0539-4931-a80a-3279c81ffec9",
   "metadata": {},
   "outputs": [
    {
     "name": "stdout",
     "output_type": "stream",
     "text": [
      "-0.14269851742974327 -1.3396295296900054\n",
      "Skewness: -0.14269851742974327, Kurtosis: -1.3396295296900054\n"
     ]
    }
   ],
   "source": [
    "# shape\n",
    "skewness = stats.skew(data)\n",
    "kurtosis = stats.kurtosis(data)\n",
    "print(skewness,kurtosis)\n",
    "print(f\"Skewness: {skewness}, Kurtosis: {kurtosis}\")\n"
   ]
  },
  {
   "cell_type": "code",
   "execution_count": 16,
   "id": "1caa27d2-cf63-4ab0-ac7f-64ee77043675",
   "metadata": {},
   "outputs": [
    {
     "name": "stdout",
     "output_type": "stream",
     "text": [
      "Covariance matrix:\n",
      " [[2.5 2. ]\n",
      " [2.  2.5]]\n",
      "covariance between x and y : 2.0\n"
     ]
    }
   ],
   "source": [
    "# measure of relationship\n",
    "x = [1,2,3,4,5] ## list\n",
    "y = [5,4,6,8,7]\n",
    "#calculate covariance matrix\n",
    "cov_matrix = np.cov(x,y)\n",
    "print(\"Covariance matrix:\\n\", cov_matrix)\n",
    "#covariance between x and y\n",
    "cov_xy = cov_matrix[0,1]\n",
    "print(\"covariance between x and y :\", cov_xy)"
   ]
  },
  {
   "cell_type": "code",
   "execution_count": 18,
   "id": "c485594c-6b7b-41bd-8bc8-eb79700a56c3",
   "metadata": {},
   "outputs": [
    {
     "name": "stdout",
     "output_type": "stream",
     "text": [
      "Correlation matrix:\n",
      " [[1.  0.8]\n",
      " [0.8 1. ]]\n",
      "pearson correlation between x and y: 0.7999999999999999\n"
     ]
    }
   ],
   "source": [
    "# Correlation coefficient\n",
    "correlation = np.corrcoef(x,y)\n",
    "print(\"Correlation matrix:\\n\", correlation)\n",
    "#pearson correlation between x and y\n",
    "corr_xy = correlation[0,1]\n",
    "print(\"pearson correlation between x and y:\",corr_xy)"
   ]
  },
  {
   "cell_type": "code",
   "execution_count": 24,
   "id": "70a26fea-4746-4e13-8ced-def21986f9c4",
   "metadata": {},
   "outputs": [
    {
     "name": "stdout",
     "output_type": "stream",
     "text": [
      "Outliers: [100, -100]\n"
     ]
    },
    {
     "data": {
      "image/png": "[encoded data removed]",
      "text/plain": [
       "<Figure size 640x480 with 1 Axes>"
      ]
     },
     "metadata": {},
     "output_type": "display_data"
    }
   ],
   "source": [
    "###### OUTLIER  BY BOX PLOT\n",
    "import matplotlib.pyplot as plt\n",
    "data = [10,12,13,14,15,100,-100] # 100 is the outlier\n",
    "Q1 = np.percentile(data,25)\n",
    "Q3 = np.percentile(data,75)\n",
    "IQR = Q3 - Q1\n",
    "lower_bound = Q1 - 1.5 * IQR\n",
    "upper_bound = Q3 + 1.5 * IQR\n",
    "outliers = [x for x in data if x < lower_bound or x > upper_bound]\n",
    "print (\"Outliers:\",outliers)\n",
    "plt.boxplot(data,vert=0)\n",
    "plt.show()"
   ]
  },
  {
   "cell_type": "code",
   "execution_count": 28,
   "id": "e3721269-00d1-4943-b70c-00538c9fc107",
   "metadata": {},
   "outputs": [
    {
     "data": {
      "text/plain": [
       "Text(0, 0.5, 'age')"
      ]
     },
     "execution_count": 28,
     "metadata": {},
     "output_type": "execute_result"
    },
    {
     "data": {
      "image/png": "[encoded data removed]",
      "text/plain": [
       "<Figure size 640x480 with 1 Axes>"
      ]
     },
     "metadata": {},
     "output_type": "display_data"
    }
   ],
   "source": [
    "# box plot\n",
    "import matplotlib.pyplot as plt\n",
    "data = [10,12,13,14,15,100]\n",
    "plt.boxplot(data,vert=0)\n",
    "plt.title(\"Box Plot\")\n",
    "plt.ylabel(\"age\")"
   ]
  },
  {
   "cell_type": "code",
   "execution_count": 43,
   "id": "2bd77d60-9d54-473f-8c3e-e36f09b6f14f",
   "metadata": {},
   "outputs": [
    {
     "name": "stdout",
     "output_type": "stream",
     "text": [
      "     A    B   C\n",
      "0  1.0  5.0  10\n",
      "1  2.0  NaN  11\n",
      "2  NaN  NaN  12\n",
      "3  4.0  8.0  13\n",
      "Missing Data:\n",
      "        A      B      C\n",
      "0  False  False  False\n",
      "1  False   True  False\n",
      "2   True   True  False\n",
      "3  False  False  False\n",
      "\n",
      "Missing Data Summary (in percentage):\n",
      " A    25.0\n",
      "B    50.0\n",
      "C     0.0\n",
      "dtype: float64\n"
     ]
    },
    {
     "data": {
      "text/plain": [
       "A    1\n",
       "B    2\n",
       "C    0\n",
       "dtype: int64"
      ]
     },
     "execution_count": 43,
     "metadata": {},
     "output_type": "execute_result"
    }
   ],
   "source": [
    "#missing value \n",
    "data = {'A':[1,2,np.nan,4],\n",
    "        'B':[5,np.nan,np.nan,8],\n",
    "        'C':[10,11,12,13]}\n",
    "# convert Dictionary to dataframe\n",
    "import pandas as pd\n",
    "df = pd.DataFrame(data)\n",
    "print(df)\n",
    "# detect missing values\n",
    "missing_data = df.isnull()\n",
    "print(\"Missing Data:\\n\", missing_data)\n",
    "#summary of missing value\n",
    "missing_summary = df.isnull().sum() / len(df) * 100\n",
    "print(\"\\nMissing Data Summary (in percentage):\\n\", missing_summary)\n",
    "df.isna().sum()\n",
    "df.fillna(4)\n",
    "df.isna().sum()"
   ]
  },
  {
   "cell_type": "code",
   "execution_count": null,
   "id": "674a8174-c80e-4ee3-84f1-0e97f8803f68",
   "metadata": {},
   "outputs": [],
   "source": []
  }
 ],
 "metadata": {
  "kernelspec": {
   "display_name": "Python 3 (ipykernel)",
   "language": "python",
   "name": "python3"
  },
  "language_info": {
   "codemirror_mode": {
    "name": "ipython",
    "version": 3
   },
   "file_extension": ".py",
   "mimetype": "text/x-python",
   "name": "python",
   "nbconvert_exporter": "python",
   "pygments_lexer": "ipython3",
   "version": "3.12.7"
  }
 },
 "nbformat": 4,
 "nbformat_minor": 5
}
