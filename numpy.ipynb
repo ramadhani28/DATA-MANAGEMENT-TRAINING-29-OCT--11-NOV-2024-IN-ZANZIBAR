{
 "cells": [
  {
   "cell_type": "code",
   "execution_count": 16,
   "id": "2a89b6a7-7e6e-4f8c-a764-067a3885a7cd",
   "metadata": {},
   "outputs": [
    {
     "name": "stdout",
     "output_type": "stream",
     "text": [
      "Entire array is\n",
      "[ 10  20  15  30  45  10  90 100]\n",
      "first element is  10\n",
      "last element is  90\n",
      "sum of element of array is  320\n",
      "mean is  40.0\n",
      "Standard Deviation is  33.63406011768428\n",
      "Maximum vaue is  100\n",
      "Minimum value is  10\n",
      "product is  -572220160\n",
      "variance is  1131.25\n",
      "Median is  25.0\n",
      "Sorted array is  [ 10  10  15  20  30  45  90 100]\n",
      "the Reversed array is  [100  90  10  45  30  15  20  10]\n",
      "sort in descending order is  [100  90  45  30  20  15  10  10]\n",
      "All index of value 10 is:  [0 5]\n",
      "first index of value 30 is:  3\n"
     ]
    }
   ],
   "source": [
    "import numpy as np\n",
    "arr = np.array([10,20,15,30,45,10,90,100])\n",
    "print('Entire array is')\n",
    "print(arr)\n",
    "print('first element is ', arr[0]) \n",
    "print('last element is ', arr[6])\n",
    "print('sum of element of array is ', sum(arr))\n",
    "print('mean is ', arr.mean())\n",
    "print('Standard Deviation is ', arr.std())\n",
    "print('Maximum vaue is ', arr.max())\n",
    "print('Minimum value is ', arr.min())\n",
    "print('product is ', arr.prod())\n",
    "print('variance is ', arr.var())\n",
    "print('Median is ', np.median(arr))\n",
    "print('Sorted array is ', np.sort(arr))\n",
    "print('the Reversed array is ', np.flip(arr))\n",
    "print('sort in descending order is ', np.flip(np.sort(arr)))\n",
    "print('All index of value 10 is: ' , np.where(arr == 10)[0]) \n",
    "print('first index of value 30 is: ' , np.where(arr == 30)[0][0])\n"
   ]
  },
  {
   "cell_type": "code",
   "execution_count": 18,
   "id": "44e6c9b5-95f2-4b44-8b5c-0738f17c386e",
   "metadata": {},
   "outputs": [
    {
     "name": "stdout",
     "output_type": "stream",
     "text": [
      "the 2D array is \n",
      "[[10 20 15 30 45]\n",
      " [78 20 30 56 83]\n",
      " [16 17 18 19 20]]\n",
      "Dimension is 2\n",
      "Shape is  (3, 5)\n"
     ]
    }
   ],
   "source": [
    "import numpy as np\n",
    "arr2D = np.array([[10,20,15,30,45],\n",
    "                 [78,20,30,56,83],\n",
    "                 [16,17,18,19,20]])\n",
    "print('the 2D array is ')\n",
    "print(arr2D)\n",
    "print('Dimension is' , np.ndim(arr2D))\n",
    "print('Shape is ' , np.shape(arr2D))\n"
   ]
  },
  {
   "cell_type": "code",
   "execution_count": 22,
   "id": "0ed3ae13-ecf8-4965-bccb-dc15c560ec37",
   "metadata": {},
   "outputs": [
    {
     "name": "stdout",
     "output_type": "stream",
     "text": [
      "print all elements\n",
      "[[10 20 15 30 45]\n",
      " [78 20 30 56 83]\n",
      " [16 17 18 19 20]\n",
      " [18 20 33 23 45]]\n",
      "\n",
      "prints element of second row (ind is 1) and third column(ind is 1)\n",
      "[[30]]\n",
      "\n",
      "prints row with index 1 (second row)\n",
      "[[78 20 30 56 83]]\n",
      "\n",
      "prints column with index 2 (third column)\n",
      "[[15]\n",
      " [30]\n",
      " [18]\n",
      " [33]]\n",
      "\n",
      "prints row with index 1 & 2 and column 1 & 2\n",
      "[[20 30]\n",
      " [17 18]]\n"
     ]
    }
   ],
   "source": [
    "import numpy as np\n",
    "arr2D = np.array([[10,20,15,30,45],\n",
    "                 [78,20,30,56,83],\n",
    "                 [16,17,18,19,20],\n",
    "                 [18,20,33,23,45]])\n",
    "print('print all elements')\n",
    "print(arr2D[::])\n",
    "print('\\nprints element of second row (ind is 1) and third column(ind is 1)')\n",
    "print(arr2D[1:2,2:3])\n",
    "print('\\nprints row with index 1 (second row)')\n",
    "print(arr2D[1:2,:])\n",
    "print('\\nprints column with index 2 (third column)')\n",
    "print(arr2D[:,2:3])\n",
    "print('\\nprints row with index 1 & 2 and column 1 & 2')\n",
    "print(arr2D[1:3,1:3])"
   ]
  },
  {
   "cell_type": "code",
   "execution_count": null,
   "id": "0e30c752-db8d-47bb-854c-b825f9844971",
   "metadata": {},
   "outputs": [],
   "source": []
  }
 ],
 "metadata": {
  "kernelspec": {
   "display_name": "Python 3 (ipykernel)",
   "language": "python",
   "name": "python3"
  },
  "language_info": {
   "codemirror_mode": {
    "name": "ipython",
    "version": 3
   },
   "file_extension": ".py",
   "mimetype": "text/x-python",
   "name": "python",
   "nbconvert_exporter": "python",
   "pygments_lexer": "ipython3",
   "version": "3.12.7"
  }
 },
 "nbformat": 4,
 "nbformat_minor": 5
}
