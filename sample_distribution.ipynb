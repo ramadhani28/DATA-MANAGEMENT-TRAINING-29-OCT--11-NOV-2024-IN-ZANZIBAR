{
 "cells": [
  {
   "cell_type": "code",
   "execution_count": 18,
   "id": "fe1be6ac-d1e1-431a-9fad-05b10979f8f4",
   "metadata": {},
   "outputs": [
    {
     "name": "stdout",
     "output_type": "stream",
     "text": [
      "probability that the tyre's life is less than 36 is :  0.01267 %\n"
     ]
    }
   ],
   "source": [
    "from scipy.stats import norm\n",
    "import math\n",
    "import numpy as np\n",
    "import matplotlib.pyplot as plt\n",
    "import pandas as pd\n",
    "x  = 36\n",
    "mean = 38.5\n",
    "std_dev = 2.5\n",
    "# std_dev for t = 2.5/np.sqrt(n)\n",
    "sqrt_value= math.sqrt(5)\n",
    "t = (x - mean)/(std_dev / sqrt_value)\n",
    "prob = norm.cdf(t)\n",
    "percent = prob * 100\n",
    "print(\"probability that the tyre's life is less than 36 is : \" , round(prob,5), \"%\")"
   ]
  },
  {
   "cell_type": "code",
   "execution_count": 41,
   "id": "b3e71134-8d21-4dbb-9335-c920d9be4cc6",
   "metadata": {},
   "outputs": [
    {
     "name": "stdout",
     "output_type": "stream",
     "text": [
      "-2.0000000000000018\n",
      "2.0000000000000018\n",
      "probability that the tyre's life is between 2.51 and 2.71 is :  0.9544997361036418\n"
     ]
    }
   ],
   "source": [
    "mean = 2.61\n",
    "std_dev = 0.5\n",
    "n = 100\n",
    "x1 = 2.51\n",
    "x2 = 2.71\n",
    "std_devt  = 0.5/np.sqrt(n)\n",
    "t1 = (x1 - mean)/std_devt\n",
    "t2 = (x2 - mean)/std_devt\n",
    "prob = norm.cdf(t2) - norm.cdf(t1)\n",
    "print(t1)\n",
    "print(t2)\n",
    "print(\"probability that the tyre's life is between 2.51 and 2.71 is : \" , prob)\n"
   ]
  },
  {
   "cell_type": "code",
   "execution_count": 55,
   "id": "e2e86153-dd38-4345-bdfc-65134e33b92b",
   "metadata": {},
   "outputs": [
    {
     "name": "stdout",
     "output_type": "stream",
     "text": [
      "170.0\n",
      "250\n",
      "7.905694150420948\n",
      "3.5355339059327373\n"
     ]
    }
   ],
   "source": [
    "mean = (160 + 165 + 170 + 175 + 180)/5\n",
    "print(mean)\n",
    "sq1 = pow((160 -170),2)\n",
    "sq2 = pow((165 -170),2)\n",
    "sq3 = pow((170 -170),2)\n",
    "sq4 = pow((175 -170),2)\n",
    "sq5 = pow((180 -170),2)\n",
    "squared = (sq1 + sq2 + sq3 + sq4 + sq5)\n",
    "print(squared)\n",
    "s = np.sqrt(squared/(5 - 1))\n",
    "print(s)\n",
    "s_dt = s/np.sqrt(5)\n",
    "print(s_dt) \n"
   ]
  },
  {
   "cell_type": "code",
   "execution_count": 61,
   "id": "22708f5d-8238-42cd-bdc8-302d798899fc",
   "metadata": {},
   "outputs": [
    {
     "name": "stdout",
     "output_type": "stream",
     "text": [
      "250.0\n",
      "7.905694150420948\n",
      "3.5355339059327373\n"
     ]
    }
   ],
   "source": [
    "import numpy as np\n",
    "L=[160,165,170,175,180]\n",
    "mean=np.mean(L)\n",
    "sum=0\n",
    "for i in range (len(L)):\n",
    "  sum=sum+(L[i]-mean)**2\n",
    "print(sum)\n",
    "sdevsample=np.sqrt(sum/(len(L)-1))\n",
    "print(sdevsample)\n",
    "serror=sdevsample/np.sqrt(len(L))\n",
    "print(serror)"
   ]
  },
  {
   "cell_type": "code",
   "execution_count": 71,
   "id": "c46fa41d-9f8a-446c-bfa3-2adee2297e27",
   "metadata": {},
   "outputs": [
    {
     "data": {
      "text/plain": [
       "-2.575829303548901"
      ]
     },
     "execution_count": 71,
     "metadata": {},
     "output_type": "execute_result"
    }
   ],
   "source": [
    "norm.ppf(.005)"
   ]
  },
  {
   "cell_type": "code",
   "execution_count": 85,
   "id": "42c9147a-81af-4b29-a079-cc37064df025",
   "metadata": {},
   "outputs": [
    {
     "name": "stdout",
     "output_type": "stream",
     "text": [
      "TtestResult(statistic=-0.9999999999999962, pvalue=0.3342819433946591, df=14)\n"
     ]
    }
   ],
   "source": [
    "from scipy.stats import norm\n",
    "from scipy import stats\n",
    "import numpy as np\n",
    "sleep_hours = [7.5,8.2,7.8,8.4,7.9,8.0,7.6,8.1,7.7,8.3,7.8,8.0,7.9,8.1,7.7]\n",
    "population_mean = 8\n",
    "\n",
    "p_value = stats.ttest_1samp(sleep_hours,population_mean)\n",
    "print(p_value)\n",
    "\n"
   ]
  },
  {
   "cell_type": "code",
   "execution_count": 81,
   "id": "cf538298-fdaa-484b-878c-56a76ea0628a",
   "metadata": {},
   "outputs": [
    {
     "name": "stdout",
     "output_type": "stream",
     "text": [
      "0.5045279056838211\n"
     ]
    }
   ],
   "source": [
    "#p_value = stats.t.sf(abs(0.685),df=14)*2\n",
    "pvalue = stats.t.sf(abs(0.685),df=14)*2\n",
    "print(pvalue)\n"
   ]
  },
  {
   "cell_type": "code",
   "execution_count": 97,
   "id": "2aadf6e5-21af-48e2-8c0a-32af0d61fca1",
   "metadata": {},
   "outputs": [
    {
     "data": {
      "text/plain": [
       "-2.0452296421327034"
      ]
     },
     "execution_count": 97,
     "metadata": {},
     "output_type": "execute_result"
    }
   ],
   "source": [
    "stats.t.ppf(.025,29)"
   ]
  },
  {
   "cell_type": "code",
   "execution_count": 103,
   "id": "5013ee26-a7fa-4250-9260-213e6a8fc1dd",
   "metadata": {},
   "outputs": [
    {
     "name": "stdout",
     "output_type": "stream",
     "text": [
      "TtestResult(statistic=0.8635772795950543, pvalue=0.3912592421763853, df=60)\n",
      "0.8635772795950543 0.3912592421763853\n"
     ]
    },
    {
     "data": {
      "text/plain": [
       "-2.0452296421327034"
      ]
     },
     "execution_count": 103,
     "metadata": {},
     "output_type": "execute_result"
    }
   ],
   "source": [
    "from scipy.stats import norm\n",
    "from scipy import stats\n",
    "import numpy as np\n",
    "Wtloss=[4.8,5.2,6.1,4.7,5.0,5.3,4.9,5.4,5.1,4.6,5.0,5.2,4.9,5.1,4.8,5.2,6.0,4.9,5.3,5.1,4.7,5.0,4.9,5.2,5.4,4.6,5.1,4.8,5.3,5.0,4.8,5.2,6.1,4.7,5.0,5.3,4.9,5.4,5.1,4.6,5.0,5.2,4.9,5.1,4.8,5.2,6.0,4.9,5,3,5.1,4.7,5.0,4.9,5.2,5.4,4.6,5.1,4.8,5.3,5.0]\n",
    "population_mean = 5\n",
    "p_value = stats.ttest_1samp(Wtloss,population_mean)\n",
    "print(p_value) \n",
    "tobs,p_value=stats.ttest_1samp(Wtloss,population_mean,alternative=\"two-sided\")\n",
    "print(tobs,p_value)\n",
    "stats.t.ppf(0.025,29)"
   ]
  },
  {
   "cell_type": "code",
   "execution_count": 134,
   "id": "7564a974-c9de-4306-926e-c78aaba7cbbc",
   "metadata": {},
   "outputs": [
    {
     "name": "stdout",
     "output_type": "stream",
     "text": [
      "-2.2056438662814233\n",
      "1.85\n",
      "3.4225000000000003\n",
      "0.04285714285714286\n",
      "0.06578947368421052\n",
      "31.501211072664365\n"
     ]
    }
   ],
   "source": [
    "from scipy import stats\n",
    "import numpy as np\n",
    "x1=12\n",
    "x2=15\n",
    "s1=3\n",
    "s2=5\n",
    "n1=15\n",
    "n2=20\n",
    "dn1=pow((3),2)\n",
    "dn2=pow((5),2)\n",
    "dn = (dn1/n1) + (dn2/n2)\n",
    "t = (x1-x2)/(np.sqrt(dn))\n",
    "print(t)\n",
    "num1= dn1/n1\n",
    "num2=dn2/n2\n",
    "num=num1+num2\n",
    "print(num)\n",
    "nm = pow((num),2)\n",
    "print(nm)\n",
    "dn3=num1/(n1-1)\n",
    "print(dn3)\n",
    "dn4=num2/(n2-1)\n",
    "print(dn4)\n",
    "dn5 = (dn3 + dn4)\n",
    "\n",
    "df = nm/dn5\n",
    "\n",
    "print(df) "
   ]
  },
  {
   "cell_type": "code",
   "execution_count": 152,
   "id": "dc21fb4b-bca8-4639-bbc4-6e21fb5f2386",
   "metadata": {},
   "outputs": [
    {
     "name": "stdout",
     "output_type": "stream",
     "text": [
      "T-statistic: -2.2056\n",
      "Degrees of freedom: 31.7042\n",
      "T-statistic (scipy): -2.2056\n",
      "P-value: 0.0348\n"
     ]
    }
   ],
   "source": [
    "import numpy as np\n",
    "from scipy import stats\n",
    "\n",
    "# Given data\n",
    "std1 = 3\n",
    "std2 = 5\n",
    "xbar1 = 12\n",
    "xbar2 = 15\n",
    "n1 = 15\n",
    "n2 = 20\n",
    "\n",
    "# Calculate the numerator\n",
    "nr = xbar1 - xbar2\n",
    "\n",
    "# Calculate the denominator\n",
    "dr = np.sqrt((std1**2 / n1) + (std2**2 / n2))\n",
    "\n",
    "# Find t_stat\n",
    "t_stat = nr / dr\n",
    "print(f\"T-statistic: {t_stat:.4f}\")\n",
    "\n",
    "# Calculate the degrees of freedom\n",
    "df = ((std1**2 / n1) + (std2**2 / n2))**2 / (((std1**2 / n1)**2 / (n1 - 1)) + ((std2**2 / n2)**2 / (n2 - 1)))\n",
    "print(f\"Degrees of freedom: {df:.4f}\")\n",
    "\n",
    "# Perform Welch's t-test using scipy\n",
    "t_stat_scipy, p_value = stats.ttest_ind_from_stats(mean1=xbar1, std1=std1, nobs1=n1, mean2=xbar2, std2=std2, nobs2=n2, equal_var=False)\n",
    "print(f\"T-statistic (scipy): {t_stat_scipy:.4f}\")\n",
    "print(f\"P-value: {p_value:.4f}\")\n"
   ]
  },
  {
   "cell_type": "code",
   "execution_count": null,
   "id": "4735777a-c712-4c54-acee-a94cbe59ba6b",
   "metadata": {},
   "outputs": [],
   "source": [
    "import scipy.stats\n",
    "xbar1=80\n",
    "std1=5\n",
    "n1=20\n",
    "xbar2=75\n",
    "std2=5\n",
    "n2=20\n",
    "t_stat_scipy, p_value = stats.ttest_ind_from_stats(mean1=xbar1, \n",
    "                                                   std1=std1, \n",
    "                                                   nobs1=n1, \n",
    "                                                   mean2=xbar2, \n",
    "                                                   std2=std2, \n",
    "                                                   nobs2=n2, \n",
    "                                                   equal_var=False)\n",
    "print(f\"T-statistic (scipy): {t_stat_scipy:.4f}\")\n",
    "print(f\"P-value: {p_value:.4f}\")"
   ]
  },
  {
   "cell_type": "code",
   "execution_count": 156,
   "id": "2054d64e-4c5c-432a-b32e-6a1bb45259c5",
   "metadata": {},
   "outputs": [
    {
     "name": "stdout",
     "output_type": "stream",
     "text": [
      "-3.1622776601683795\n",
      "11.965397923875432\n",
      "Reject H0: ....\n"
     ]
    }
   ],
   "source": [
    "import numpy as np\n",
    "x1bar=12\n",
    "x2bar=15\n",
    "n1=15\n",
    "n2=20\n",
    "sd1=3\n",
    "sd2=5\n",
    "Nr=x1bar-x2bar\n",
    "Dr=np.sqrt(((sd1*2)/n1)+((sd2*2)/n2))\n",
    "tobs=Nr/Dr\n",
    "print(tobs)\n",
    "#--------------------------\n",
    "Nr=(((sd1*2))/n1+((sd2)/n2))*2\n",
    "Dr1=((sd1**2)/n1)/(n1-1)\n",
    "Dr2=((sd2**2)/n2)/(n2-1)\n",
    "Dr=Dr1+Dr2\n",
    "dof=Nr/Dr\n",
    "alpha=.05\n",
    "print(dof)\n",
    "from scipy import stats\n",
    "p_value=stats.t.sf(abs(tobs),df=dof)*2\n",
    "if(p_value<alpha):\n",
    "    print(\"Reject H0: ....\")\n",
    "else:\n",
    "    print(\"H0 may be accepted\")"
   ]
  },
  {
   "cell_type": "code",
   "execution_count": 148,
   "id": "bc8829e8-10fc-4b8d-8989-85973d51edc0",
   "metadata": {},
   "outputs": [
    {
     "name": "stdout",
     "output_type": "stream",
     "text": [
      "25.0\n",
      "1.5811388300841898\n",
      "3.162277660168379\n",
      "0.003073007333677187\n",
      "Reject H0\n"
     ]
    }
   ],
   "source": [
    "x1=80\n",
    "x2=75\n",
    "s1=5\n",
    "s2=5\n",
    "n1=20\n",
    "n2=20\n",
    "alpha=0.05\n",
    "nmsp=((n1-1)*(s1**2)) + ((n2-1)*(s2**2))\n",
    "drsp= n1+n2 -2\n",
    "sp = nmsp/drsp\n",
    "print(sp)\n",
    "drp= (1/n1) + (1/n2)\n",
    "dr=np.sqrt(sp*drp)\n",
    "\n",
    "print(dr)\n",
    "t= (x1-x2)/dr\n",
    "print(t)\n",
    "p_value=stats.t.sf(abs(t),drsp)*2\n",
    "print(p_value)\n",
    "if(p_value<alpha):\n",
    "    print(\"Reject H0\")\n",
    "else:    \n",
    "    print(\"accept H0\")"
   ]
  },
  {
   "cell_type": "code",
   "execution_count": 150,
   "id": "48661f61-4d3b-4f0a-9023-f7d421532cc4",
   "metadata": {},
   "outputs": [
    {
     "name": "stdout",
     "output_type": "stream",
     "text": [
      "T-statistic: 3.1623\n",
      "Degrees of freedom: 38.0000\n",
      "P-value: 0.0031\n",
      "Reject the null hypothesis\n"
     ]
    }
   ],
   "source": [
    "import numpy as np\n",
    "\n",
    "# Given data\n",
    "xbar1 = 80\n",
    "std1 = 5\n",
    "n1 = 20\n",
    "xbar2 = 75\n",
    "std2 = 5\n",
    "n2 = 20\n",
    "\n",
    "# Calculate the numerator\n",
    "nr = xbar1 - xbar2\n",
    "\n",
    "# Calculate the denominator using sqrt\n",
    "dr = np.sqrt((std1**2 / n1) + (std2**2 / n2))\n",
    "\n",
    "# Find t_stat\n",
    "t_stat = nr / dr\n",
    "print(f\"T-statistic: {t_stat:.4f}\")\n",
    "\n",
    "# Calculate the degrees of freedom\n",
    "df = ((std1**2 / n1) + (std2**2 / n2))**2 / (((std1**2 / n1)**2 / (n1 - 1)) + ((std2**2 / n2)**2 / (n2 - 1)))\n",
    "print(f\"Degrees of freedom: {df:.4f}\")\n",
    "\n",
    "# Calculate the p-value using the t-distribution\n",
    "from scipy.stats import t\n",
    "p_value = 2 * t.sf(np.abs(t_stat), df)\n",
    "print(f\"P-value: {p_value:.4f}\")\n",
    "\n",
    "# Check whether to reject or accept the Null Hypothesis\n",
    "if p_value < 0.05:\n",
    "    print(\"Reject the null hypothesis\")\n",
    "else:\n",
    "    print(\"Fail to reject the null hypothesis\")"
   ]
  },
  {
   "cell_type": "code",
   "execution_count": 172,
   "id": "0d4fcd14-20d4-41ca-8627-2d5b028e52c4",
   "metadata": {},
   "outputs": [
    {
     "name": "stdout",
     "output_type": "stream",
     "text": [
      "239.0\n",
      "224.5\n",
      "TtestResult(statistic=12.428571428571427, pvalue=5.707263519771817e-07, df=9)\n"
     ]
    },
    {
     "ename": "TypeError",
     "evalue": "'<' not supported between instances of 'TtestResult' and 'float'",
     "output_type": "error",
     "traceback": [
      "\u001b[1;31m---------------------------------------------------------------------------\u001b[0m",
      "\u001b[1;31mTypeError\u001b[0m                                 Traceback (most recent call last)",
      "Cell \u001b[1;32mIn[172], line 12\u001b[0m\n\u001b[0;32m     10\u001b[0m \u001b[38;5;28mprint\u001b[39m(p_value)\n\u001b[0;32m     11\u001b[0m \u001b[38;5;66;03m# Check whether to reject or accept the Null Hypothesis\u001b[39;00m\n\u001b[1;32m---> 12\u001b[0m \u001b[38;5;28;01mif\u001b[39;00m p_value\u001b[38;5;241m<\u001b[39malpha:\n\u001b[0;32m     13\u001b[0m     \u001b[38;5;28mprint\u001b[39m(\u001b[38;5;124m\"\u001b[39m\u001b[38;5;124mReject the null hypothesis\u001b[39m\u001b[38;5;124m\"\u001b[39m)\n\u001b[0;32m     14\u001b[0m \u001b[38;5;28;01melse\u001b[39;00m:\n",
      "\u001b[1;31mTypeError\u001b[0m: '<' not supported between instances of 'TtestResult' and 'float'"
     ]
    }
   ],
   "source": [
    "import numpy as np\n",
    "from scipy import stats\n",
    "group1= [210,220,215,240,230,245,260,255,250,265]\n",
    "group2= [190,205,200,230,220,225,250,240,235,250]\n",
    "mean1=np.mean(group1)\n",
    "mean2=np.mean(group2)\n",
    "print(mean1)\n",
    "print(mean2)\n",
    "p_value=stats.ttest_rel(group1,group2)\n",
    "print(p_value)\n",
    "# Check whether to reject or accept the Null Hypothesis\n",
    "if p_value<0.05:\n",
    "    print(\"Reject the null hypothesis\")\n",
    "else:\n",
    "    print(\"Fail to reject the null hypothesis\")"
   ]
  },
  {
   "cell_type": "code",
   "execution_count": 174,
   "id": "4c73af8b-3006-4de4-ba91-1be288e75e20",
   "metadata": {},
   "outputs": [
    {
     "name": "stdout",
     "output_type": "stream",
     "text": [
      "4.714045207910317\n",
      "Reject the null hypothesis\n"
     ]
    }
   ],
   "source": [
    "mean=100\n",
    "x=110\n",
    "n=50\n",
    "sd=15\n",
    "sdr=15/np.sqrt(50)\n",
    "z=(x-mean)/sdr\n",
    "print(z)\n",
    "if z>1.96:\n",
    "    print(\"Reject the null hypothesis\")\n",
    "else:\n",
    "    print(\"Fail to reject the null hypothesis\")\n"
   ]
  },
  {
   "cell_type": "code",
   "execution_count": 194,
   "id": "d3ba4fe3-c8ce-42bb-bd91-9dc84ae8644e",
   "metadata": {},
   "outputs": [
    {
     "name": "stdout",
     "output_type": "stream",
     "text": [
      "-2.3836564731139807\n",
      "0.9913436809744834\n",
      "Reject the null hypothesis\n"
     ]
    }
   ],
   "source": [
    "n1=50\n",
    "n2=60\n",
    "x1=75\n",
    "x2=80\n",
    "mean1=mean2\n",
    "s1=10\n",
    "s2=12\n",
    "dr= ((s1**2)/n1)+((s2**2)/n2)\n",
    "z=(75-80)/np.sqrt(dr)\n",
    "print(z)\n",
    "prob = norm.cdf(2.38)\n",
    "print(prob)\n",
    "p=1-prob\n",
    "if p<0.05:\n",
    "    print(\"Reject the null hypothesis\")\n",
    "else:\n",
    "    print(\"Fail to reject the null hypothesis\")\n"
   ]
  },
  {
   "cell_type": "code",
   "execution_count": 188,
   "id": "b92e67e1-e4da-41f6-9738-2d84e7564af5",
   "metadata": {},
   "outputs": [],
   "source": [
    "prob = norm.cdf(z)"
   ]
  },
  {
   "cell_type": "code",
   "execution_count": 204,
   "id": "4b2a2bcf-5f4c-4e19-8d0b-4337b10d67b5",
   "metadata": {},
   "outputs": [
    {
     "name": "stdout",
     "output_type": "stream",
     "text": [
      "-0.3999999999999986\n",
      "Fail to reject the null hypothesis\n"
     ]
    }
   ],
   "source": [
    "mean=12\n",
    "n=100\n",
    "s=0.5\n",
    "x=11.8\n",
    "\n",
    "z=(x-mean)/s\n",
    "print(z)\n",
    "if z<-1.96:\n",
    "    print(\"Reject the null hypothesis\")\n",
    "else:\n",
    "    print(\"Fail to reject the null hypothesis\")"
   ]
  },
  {
   "cell_type": "code",
   "execution_count": 217,
   "id": "a14475d2-22e8-40fb-bf1b-20aa7ddc77e4",
   "metadata": {},
   "outputs": [
    {
     "name": "stdout",
     "output_type": "stream",
     "text": [
      "2.992528008322899\n",
      "0.9986051127645078\n",
      "Reject the null hypothesis\n"
     ]
    }
   ],
   "source": [
    "n1=50\n",
    "x1=15\n",
    "s1=3\n",
    "n2=60\n",
    "x2=13\n",
    "s2=4\n",
    "dr= ((s1**2)/n1)+((s2**2)/n2)\n",
    "z=(x1-x2)/np.sqrt(dr)\n",
    "print(z)\n",
    "prob = norm.cdf(2.99)\n",
    "print(prob)\n",
    "norm.ppf(.025)\n",
    "if z>2.57:\n",
    "    print(\"Reject the null hypothesis\")\n",
    "else:\n",
    "    print(\"Fail to reject the null hypothesis\")\n"
   ]
  },
  {
   "cell_type": "code",
   "execution_count": 215,
   "id": "c17d7fa5-5013-4def-ae20-773bb9d97b89",
   "metadata": {},
   "outputs": [
    {
     "data": {
      "text/plain": [
       "-2.575829303548901"
      ]
     },
     "execution_count": 215,
     "metadata": {},
     "output_type": "execute_result"
    }
   ],
   "source": [
    "norm.ppf(.005)"
   ]
  },
  {
   "cell_type": "code",
   "execution_count": 221,
   "id": "b8099575-121b-4e34-b880-85d3544abea7",
   "metadata": {},
   "outputs": [
    {
     "name": "stdout",
     "output_type": "stream",
     "text": [
      "-0.25\n",
      "Fail to reject the null hypothesis\n"
     ]
    }
   ],
   "source": [
    "mean=500\n",
    "n=64\n",
    "x=498\n",
    "s=8\n",
    "z=(x-mean)/s\n",
    "print(z)\n",
    "if z < -2.57:\n",
    "    print(\"Reject the null hypothesis\")\n",
    "else:\n",
    "    print(\"Fail to reject the null hypothesis\")\n"
   ]
  },
  {
   "cell_type": "code",
   "execution_count": null,
   "id": "d9e78ad9-6501-43b5-9a75-918006f30020",
   "metadata": {},
   "outputs": [],
   "source": []
  }
 ],
 "metadata": {
  "kernelspec": {
   "display_name": "Python 3 (ipykernel)",
   "language": "python",
   "name": "python3"
  },
  "language_info": {
   "codemirror_mode": {
    "name": "ipython",
    "version": 3
   },
   "file_extension": ".py",
   "mimetype": "text/x-python",
   "name": "python",
   "nbconvert_exporter": "python",
   "pygments_lexer": "ipython3",
   "version": "3.12.7"
  }
 },
 "nbformat": 4,
 "nbformat_minor": 5
}
